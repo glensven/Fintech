{
 "cells": [
  {
   "cell_type": "markdown",
   "metadata": {},
   "source": [
    "# Unit 5 - Financial Planning\n"
   ]
  },
  {
   "cell_type": "code",
   "execution_count": 1,
   "metadata": {},
   "outputs": [],
   "source": [
    "# Initial imports\n",
    "import os\n",
    "import requests\n",
    "import pandas as pd\n",
    "from dotenv import load_dotenv\n",
    "import alpaca_trade_api as tradeapi\n",
    "from MCForecastTools import MCSimulation\n",
    "import json\n",
    "%matplotlib inline"
   ]
  },
  {
   "cell_type": "code",
   "execution_count": 2,
   "metadata": {},
   "outputs": [
    {
     "data": {
      "text/plain": [
       "True"
      ]
     },
     "execution_count": 2,
     "metadata": {},
     "output_type": "execute_result"
    }
   ],
   "source": [
    "# Load .env enviroment variables\n",
    "load_dotenv()"
   ]
  },
  {
   "cell_type": "markdown",
   "metadata": {},
   "source": [
    "## Part 1 - Personal Finance Planner"
   ]
  },
  {
   "cell_type": "markdown",
   "metadata": {},
   "source": [
    "### Collect Crypto Prices Using the `requests` Library"
   ]
  },
  {
   "cell_type": "code",
   "execution_count": 3,
   "metadata": {},
   "outputs": [],
   "source": [
    "# Set current amount of crypto assets\n",
    "btc_assets = 1.2\n",
    "eth_assets = 5.3\n"
   ]
  },
  {
   "cell_type": "code",
   "execution_count": 4,
   "metadata": {},
   "outputs": [],
   "source": [
    "# Crypto API URLs\n",
    "btc_url = \"https://api.alternative.me/v2/ticker/Bitcoin/?convert=CAD\"\n",
    "eth_url = \"https://api.alternative.me/v2/ticker/Ethereum/?convert=CAD\""
   ]
  },
  {
   "cell_type": "code",
   "execution_count": 5,
   "metadata": {},
   "outputs": [
    {
     "name": "stdout",
     "output_type": "stream",
     "text": [
      "{\n",
      "    \"data\": {\n",
      "        \"1\": {\n",
      "            \"id\": 1,\n",
      "            \"name\": \"Bitcoin\",\n",
      "            \"symbol\": \"BTC\",\n",
      "            \"website_slug\": \"bitcoin\",\n",
      "            \"rank\": 1,\n",
      "            \"circulating_supply\": 18641500,\n",
      "            \"total_supply\": 18641500,\n",
      "            \"max_supply\": 21000000,\n",
      "            \"quotes\": {\n",
      "                \"USD\": {\n",
      "                    \"price\": 46508.0,\n",
      "                    \"volume_24h\": 62393618227,\n",
      "                    \"market_cap\": 869902916523,\n",
      "                    \"percentage_change_1h\": -0.0657825413020536,\n",
      "                    \"percentage_change_24h\": 1.86520799428512,\n",
      "                    \"percentage_change_7d\": -19.3537608475358,\n",
      "                    \"percent_change_1h\": -0.0657825413020536,\n",
      "                    \"percent_change_24h\": 1.86520799428512,\n",
      "                    \"percent_change_7d\": -19.3537608475358\n",
      "                }\n",
      "            },\n",
      "            \"last_updated\": 1614568480\n",
      "        }\n",
      "    },\n",
      "    \"metadata\": {\n",
      "        \"timestamp\": 1614568480,\n",
      "        \"num_cryptocurrencies\": 1334,\n",
      "        \"error\": null\n",
      "    }\n",
      "}\n"
     ]
    }
   ],
   "source": [
    "# Fetch current BTC data and format\n",
    "btc_url = btc_url + \"?format=json\"\n",
    "btc_data = requests.get(btc_url).json()\n",
    "\n",
    "# Print BTC data in json format\n",
    "print(json.dumps(btc_data, indent=4))"
   ]
  },
  {
   "cell_type": "code",
   "execution_count": 6,
   "metadata": {},
   "outputs": [
    {
     "name": "stdout",
     "output_type": "stream",
     "text": [
      "BTC Price: $46508.0\n"
     ]
    }
   ],
   "source": [
    "# Fetch current BTC price\n",
    "btc_price = btc_data['data']['1']['quotes']['USD']['price']\n",
    "print(\"BTC Price: $\" + str(btc_price))"
   ]
  },
  {
   "cell_type": "code",
   "execution_count": 7,
   "metadata": {},
   "outputs": [
    {
     "name": "stdout",
     "output_type": "stream",
     "text": [
      "{\n",
      "    \"data\": {\n",
      "        \"1027\": {\n",
      "            \"id\": 1027,\n",
      "            \"name\": \"Ethereum\",\n",
      "            \"symbol\": \"ETH\",\n",
      "            \"website_slug\": \"ethereum\",\n",
      "            \"rank\": 2,\n",
      "            \"circulating_supply\": 114864965,\n",
      "            \"total_supply\": 114864965,\n",
      "            \"max_supply\": 0,\n",
      "            \"quotes\": {\n",
      "                \"USD\": {\n",
      "                    \"price\": 1441.18,\n",
      "                    \"volume_24h\": 36155780164,\n",
      "                    \"market_cap\": 165977020064,\n",
      "                    \"percentage_change_1h\": -0.578080134543263,\n",
      "                    \"percentage_change_24h\": 1.01865728490658,\n",
      "                    \"percentage_change_7d\": -25.7669484654652,\n",
      "                    \"percent_change_1h\": -0.578080134543263,\n",
      "                    \"percent_change_24h\": 1.01865728490658,\n",
      "                    \"percent_change_7d\": -25.7669484654652\n",
      "                }\n",
      "            },\n",
      "            \"last_updated\": 1614568323\n",
      "        }\n",
      "    },\n",
      "    \"metadata\": {\n",
      "        \"timestamp\": 1614568323,\n",
      "        \"num_cryptocurrencies\": 1334,\n",
      "        \"error\": null\n",
      "    }\n",
      "}\n"
     ]
    }
   ],
   "source": [
    "# Fetch current ETH data and format\n",
    "eth_url = eth_url + \"?format=json\"\n",
    "eth_data = requests.get(eth_url).json()\n",
    "\n",
    "# Print ETH data in json format\n",
    "print(json.dumps(eth_data, indent=4))"
   ]
  },
  {
   "cell_type": "code",
   "execution_count": 8,
   "metadata": {},
   "outputs": [
    {
     "name": "stdout",
     "output_type": "stream",
     "text": [
      "ETH Price: $1441.18\n"
     ]
    }
   ],
   "source": [
    "# Fetch current ETH price\n",
    "eth_price = eth_data['data']['1027']['quotes']['USD']['price']\n",
    "print(\"ETH Price: $\" + str(eth_price))\n"
   ]
  },
  {
   "cell_type": "code",
   "execution_count": 9,
   "metadata": {},
   "outputs": [
    {
     "name": "stdout",
     "output_type": "stream",
     "text": [
      "The current value of your 1.2 BTC is $55809.60\n",
      "The current value of your 5.3 ETH is $7638.25\n"
     ]
    }
   ],
   "source": [
    "# Compute current value of my crpto\n",
    "my_btc = btc_assets * btc_price\n",
    "my_eth = eth_assets * eth_price\n",
    "# Print current crypto wallet balance\n",
    "print(f\"The current value of your {btc_assets} BTC is ${my_btc:0.2f}\")\n",
    "print(f\"The current value of your {eth_assets} ETH is ${my_eth:0.2f}\")"
   ]
  },
  {
   "cell_type": "markdown",
   "metadata": {},
   "source": [
    "### Collect Investments Data Using Alpaca: `SPY` (stocks) and `AGG` (bonds)"
   ]
  },
  {
   "cell_type": "code",
   "execution_count": 10,
   "metadata": {},
   "outputs": [],
   "source": [
    "# Current amount of shares\n",
    "spy_shares = 50\n",
    "agg_shares = 200"
   ]
  },
  {
   "cell_type": "code",
   "execution_count": 11,
   "metadata": {},
   "outputs": [],
   "source": [
    "# Set Alpaca API key and secret\n",
    "alpaca_api_key = os.getenv(\"ALPACA_API_KEY\")\n",
    "alpaca_secret_key = os.getenv(\"ALPACA_SECRET_KEY\")\n",
    "\n",
    "# Create the Alpaca API object\n",
    "alpaca = tradeapi.REST(\n",
    "    alpaca_api_key,\n",
    "    alpaca_secret_key,\n",
    "    api_version=\"v2\"\n",
    ")"
   ]
  },
  {
   "cell_type": "code",
   "execution_count": 12,
   "metadata": {},
   "outputs": [
    {
     "data": {
      "text/html": [
       "<div>\n",
       "<style scoped>\n",
       "    .dataframe tbody tr th:only-of-type {\n",
       "        vertical-align: middle;\n",
       "    }\n",
       "\n",
       "    .dataframe tbody tr th {\n",
       "        vertical-align: top;\n",
       "    }\n",
       "\n",
       "    .dataframe thead tr th {\n",
       "        text-align: left;\n",
       "    }\n",
       "\n",
       "    .dataframe thead tr:last-of-type th {\n",
       "        text-align: right;\n",
       "    }\n",
       "</style>\n",
       "<table border=\"1\" class=\"dataframe\">\n",
       "  <thead>\n",
       "    <tr>\n",
       "      <th></th>\n",
       "      <th colspan=\"5\" halign=\"left\">AGG</th>\n",
       "      <th colspan=\"5\" halign=\"left\">SPY</th>\n",
       "    </tr>\n",
       "    <tr>\n",
       "      <th></th>\n",
       "      <th>open</th>\n",
       "      <th>high</th>\n",
       "      <th>low</th>\n",
       "      <th>close</th>\n",
       "      <th>volume</th>\n",
       "      <th>open</th>\n",
       "      <th>high</th>\n",
       "      <th>low</th>\n",
       "      <th>close</th>\n",
       "      <th>volume</th>\n",
       "    </tr>\n",
       "    <tr>\n",
       "      <th>time</th>\n",
       "      <th></th>\n",
       "      <th></th>\n",
       "      <th></th>\n",
       "      <th></th>\n",
       "      <th></th>\n",
       "      <th></th>\n",
       "      <th></th>\n",
       "      <th></th>\n",
       "      <th></th>\n",
       "      <th></th>\n",
       "    </tr>\n",
       "  </thead>\n",
       "  <tbody>\n",
       "    <tr>\n",
       "      <th>2021-02-26 00:00:00-05:00</th>\n",
       "      <td>114.96</td>\n",
       "      <td>115.39</td>\n",
       "      <td>114.5915</td>\n",
       "      <td>115.37</td>\n",
       "      <td>9735524</td>\n",
       "      <td>384.35</td>\n",
       "      <td>385.58</td>\n",
       "      <td>378.23</td>\n",
       "      <td>380.32</td>\n",
       "      <td>134902084</td>\n",
       "    </tr>\n",
       "  </tbody>\n",
       "</table>\n",
       "</div>"
      ],
      "text/plain": [
       "                              AGG                                        SPY  \\\n",
       "                             open    high       low   close   volume    open   \n",
       "time                                                                           \n",
       "2021-02-26 00:00:00-05:00  114.96  115.39  114.5915  115.37  9735524  384.35   \n",
       "\n",
       "                                                              \n",
       "                             high     low   close     volume  \n",
       "time                                                          \n",
       "2021-02-26 00:00:00-05:00  385.58  378.23  380.32  134902084  "
      ]
     },
     "execution_count": 12,
     "metadata": {},
     "output_type": "execute_result"
    }
   ],
   "source": [
    "# Format current date as ISO format\n",
    "date = pd.Timestamp(\"2021-02-26\", tz=\"America/New_York\").isoformat()\n",
    "\n",
    "\n",
    "# Set the tickers\n",
    "tickers = [\"AGG\", \"SPY\"]\n",
    "\n",
    "# Set timeframe to '1D' for Alpaca API\n",
    "timeframe = \"1D\"\n",
    "\n",
    "# Get current closing prices for SPY and AGG\n",
    "df_ticker = alpaca.get_barset(\n",
    "    tickers,\n",
    "    timeframe,\n",
    "    start=date\n",
    ").df\n",
    "\n",
    "# Preview DataFrame\n",
    "df_ticker.head()"
   ]
  },
  {
   "cell_type": "code",
   "execution_count": 13,
   "metadata": {},
   "outputs": [
    {
     "name": "stdout",
     "output_type": "stream",
     "text": [
      "Current AGG closing price: $115\n",
      "Current SPY closing price: $380\n"
     ]
    }
   ],
   "source": [
    "# Pick AGG and SPY close prices\n",
    "agg_close_price = int(df_ticker[\"AGG\"][\"close\"].values)\n",
    "spy_close_price = int(df_ticker[\"SPY\"][\"close\"].values)\n",
    "\n",
    "# Print AGG and SPY close prices\n",
    "print(f\"Current AGG closing price: ${agg_close_price}\")\n",
    "print(f\"Current SPY closing price: ${spy_close_price}\")"
   ]
  },
  {
   "cell_type": "code",
   "execution_count": 14,
   "metadata": {},
   "outputs": [
    {
     "name": "stdout",
     "output_type": "stream",
     "text": [
      "The current value of your 50 SPY shares is $19000.00\n",
      "The current value of your 200 AGG shares is $23000.00\n"
     ]
    }
   ],
   "source": [
    "# Compute the current value of shares\n",
    "my_spy = spy_shares * spy_close_price\n",
    "my_agg = agg_shares * agg_close_price\n",
    "\n",
    "# Print current value of share\n",
    "print(f\"The current value of your {spy_shares} SPY shares is ${my_spy:0.2f}\")\n",
    "print(f\"The current value of your {agg_shares} AGG shares is ${my_agg:0.2f}\")"
   ]
  },
  {
   "cell_type": "markdown",
   "metadata": {},
   "source": [
    "### Savings Health Analysis"
   ]
  },
  {
   "cell_type": "code",
   "execution_count": 15,
   "metadata": {},
   "outputs": [
    {
     "data": {
      "text/html": [
       "<div>\n",
       "<style scoped>\n",
       "    .dataframe tbody tr th:only-of-type {\n",
       "        vertical-align: middle;\n",
       "    }\n",
       "\n",
       "    .dataframe tbody tr th {\n",
       "        vertical-align: top;\n",
       "    }\n",
       "\n",
       "    .dataframe thead th {\n",
       "        text-align: right;\n",
       "    }\n",
       "</style>\n",
       "<table border=\"1\" class=\"dataframe\">\n",
       "  <thead>\n",
       "    <tr style=\"text-align: right;\">\n",
       "      <th></th>\n",
       "      <th>Amounts</th>\n",
       "    </tr>\n",
       "  </thead>\n",
       "  <tbody>\n",
       "    <tr>\n",
       "      <th>Crypto</th>\n",
       "      <td>63447.854</td>\n",
       "    </tr>\n",
       "    <tr>\n",
       "      <th>Shares</th>\n",
       "      <td>42000.000</td>\n",
       "    </tr>\n",
       "  </tbody>\n",
       "</table>\n",
       "</div>"
      ],
      "text/plain": [
       "          Amounts\n",
       "Crypto  63447.854\n",
       "Shares  42000.000"
      ]
     },
     "metadata": {},
     "output_type": "display_data"
    }
   ],
   "source": [
    "# Set monthly household income\n",
    "monthly_income = 12000\n",
    "\n",
    "# Create savings DataFrame\n",
    "my_index = ['Crypto', 'Shares']\n",
    "crypto = my_btc + my_eth\n",
    "shares = my_spy + my_agg\n",
    "df_savings = pd.DataFrame(data = [crypto, shares], index = my_index, columns = ['Amounts'])\n",
    "\n",
    "# Display savings DataFrame\n",
    "display(df_savings)"
   ]
  },
  {
   "cell_type": "code",
   "execution_count": 16,
   "metadata": {},
   "outputs": [
    {
     "name": "stdout",
     "output_type": "stream",
     "text": [
      "[<AxesSubplot:ylabel='Amounts'>]\n"
     ]
    },
    {
     "data": {
      "image/png": "[encoded data removed]",
      "text/plain": [
       "<Figure size 432x288 with 1 Axes>"
      ]
     },
     "metadata": {},
     "output_type": "display_data"
    }
   ],
   "source": [
    "# Plot savings pie chart\n",
    "print(df_savings.plot.pie(subplots = True))"
   ]
  },
  {
   "cell_type": "code",
   "execution_count": 17,
   "metadata": {},
   "outputs": [
    {
     "name": "stdout",
     "output_type": "stream",
     "text": [
      "Congratulations you have reached your financial goal\n"
     ]
    }
   ],
   "source": [
    "# Set ideal emergency fund\n",
    "emergency_fund = monthly_income * 3\n",
    "\n",
    "# Calculate total amount of savings\n",
    "total_amount = crypto + shares\n",
    "needed_funds = emergency_fund - total_amount\n",
    "# Validate saving health\n",
    "if total_amount >= emergency_fund:\n",
    "    print(\"Congratulations you have reached your financial goal\")\n",
    "else: \n",
    "    print(f\"Dollars away from reaching financial goal: $ {needed_funds}\")\n",
    "    \n",
    "    "
   ]
  },
  {
   "cell_type": "markdown",
   "metadata": {},
   "source": [
    "## Part 2 - Retirement Planning\n",
    "\n",
    "### Monte Carlo Simulation"
   ]
  },
  {
   "cell_type": "code",
   "execution_count": 27,
   "metadata": {},
   "outputs": [],
   "source": [
    "# Set start and end dates of five years back from today.\n",
    "# Sample results may vary from the solution based on the time frame chosen\n",
    "start_date = pd.Timestamp('2015-02-28', tz='America/New_York').isoformat()\n",
    "end_date = pd.Timestamp('2020-02-28', tz='America/New_York').isoformat()"
   ]
  },
  {
   "cell_type": "code",
   "execution_count": 28,
   "metadata": {},
   "outputs": [
    {
     "data": {
      "text/html": [
       "<div>\n",
       "<style scoped>\n",
       "    .dataframe tbody tr th:only-of-type {\n",
       "        vertical-align: middle;\n",
       "    }\n",
       "\n",
       "    .dataframe tbody tr th {\n",
       "        vertical-align: top;\n",
       "    }\n",
       "\n",
       "    .dataframe thead tr th {\n",
       "        text-align: left;\n",
       "    }\n",
       "\n",
       "    .dataframe thead tr:last-of-type th {\n",
       "        text-align: right;\n",
       "    }\n",
       "</style>\n",
       "<table border=\"1\" class=\"dataframe\">\n",
       "  <thead>\n",
       "    <tr>\n",
       "      <th></th>\n",
       "      <th colspan=\"5\" halign=\"left\">AGG</th>\n",
       "      <th colspan=\"5\" halign=\"left\">SPY</th>\n",
       "    </tr>\n",
       "    <tr>\n",
       "      <th></th>\n",
       "      <th>open</th>\n",
       "      <th>high</th>\n",
       "      <th>low</th>\n",
       "      <th>close</th>\n",
       "      <th>volume</th>\n",
       "      <th>open</th>\n",
       "      <th>high</th>\n",
       "      <th>low</th>\n",
       "      <th>close</th>\n",
       "      <th>volume</th>\n",
       "    </tr>\n",
       "    <tr>\n",
       "      <th>time</th>\n",
       "      <th></th>\n",
       "      <th></th>\n",
       "      <th></th>\n",
       "      <th></th>\n",
       "      <th></th>\n",
       "      <th></th>\n",
       "      <th></th>\n",
       "      <th></th>\n",
       "      <th></th>\n",
       "      <th></th>\n",
       "    </tr>\n",
       "  </thead>\n",
       "  <tbody>\n",
       "    <tr>\n",
       "      <th>2019-10-07 00:00:00-04:00</th>\n",
       "      <td>113.64</td>\n",
       "      <td>113.7050</td>\n",
       "      <td>113.510</td>\n",
       "      <td>113.520</td>\n",
       "      <td>1828049</td>\n",
       "      <td>293.47</td>\n",
       "      <td>295.26</td>\n",
       "      <td>292.7700</td>\n",
       "      <td>293.11</td>\n",
       "      <td>51170613</td>\n",
       "    </tr>\n",
       "    <tr>\n",
       "      <th>2019-10-08 00:00:00-04:00</th>\n",
       "      <td>113.82</td>\n",
       "      <td>113.8200</td>\n",
       "      <td>113.485</td>\n",
       "      <td>113.550</td>\n",
       "      <td>2765236</td>\n",
       "      <td>291.04</td>\n",
       "      <td>291.85</td>\n",
       "      <td>288.4900</td>\n",
       "      <td>288.55</td>\n",
       "      <td>82885280</td>\n",
       "    </tr>\n",
       "    <tr>\n",
       "      <th>2019-10-09 00:00:00-04:00</th>\n",
       "      <td>113.55</td>\n",
       "      <td>113.5600</td>\n",
       "      <td>113.359</td>\n",
       "      <td>113.485</td>\n",
       "      <td>2689301</td>\n",
       "      <td>290.75</td>\n",
       "      <td>292.30</td>\n",
       "      <td>290.0600</td>\n",
       "      <td>291.23</td>\n",
       "      <td>49246505</td>\n",
       "    </tr>\n",
       "    <tr>\n",
       "      <th>2019-10-10 00:00:00-04:00</th>\n",
       "      <td>113.27</td>\n",
       "      <td>113.3300</td>\n",
       "      <td>113.030</td>\n",
       "      <td>113.090</td>\n",
       "      <td>3504667</td>\n",
       "      <td>291.18</td>\n",
       "      <td>294.21</td>\n",
       "      <td>291.0000</td>\n",
       "      <td>293.24</td>\n",
       "      <td>50981567</td>\n",
       "    </tr>\n",
       "    <tr>\n",
       "      <th>2019-10-11 00:00:00-04:00</th>\n",
       "      <td>112.84</td>\n",
       "      <td>112.8501</td>\n",
       "      <td>112.585</td>\n",
       "      <td>112.730</td>\n",
       "      <td>3437394</td>\n",
       "      <td>296.27</td>\n",
       "      <td>298.74</td>\n",
       "      <td>296.1448</td>\n",
       "      <td>296.26</td>\n",
       "      <td>83204669</td>\n",
       "    </tr>\n",
       "  </tbody>\n",
       "</table>\n",
       "</div>"
      ],
      "text/plain": [
       "                              AGG                                       \\\n",
       "                             open      high      low    close   volume   \n",
       "time                                                                     \n",
       "2019-10-07 00:00:00-04:00  113.64  113.7050  113.510  113.520  1828049   \n",
       "2019-10-08 00:00:00-04:00  113.82  113.8200  113.485  113.550  2765236   \n",
       "2019-10-09 00:00:00-04:00  113.55  113.5600  113.359  113.485  2689301   \n",
       "2019-10-10 00:00:00-04:00  113.27  113.3300  113.030  113.090  3504667   \n",
       "2019-10-11 00:00:00-04:00  112.84  112.8501  112.585  112.730  3437394   \n",
       "\n",
       "                              SPY                                      \n",
       "                             open    high       low   close    volume  \n",
       "time                                                                   \n",
       "2019-10-07 00:00:00-04:00  293.47  295.26  292.7700  293.11  51170613  \n",
       "2019-10-08 00:00:00-04:00  291.04  291.85  288.4900  288.55  82885280  \n",
       "2019-10-09 00:00:00-04:00  290.75  292.30  290.0600  291.23  49246505  \n",
       "2019-10-10 00:00:00-04:00  291.18  294.21  291.0000  293.24  50981567  \n",
       "2019-10-11 00:00:00-04:00  296.27  298.74  296.1448  296.26  83204669  "
      ]
     },
     "execution_count": 28,
     "metadata": {},
     "output_type": "execute_result"
    }
   ],
   "source": [
    "# Get 5 years' worth of historical data for SPY and AGG\n",
    "df_stock_data = alpaca.get_barset(\n",
    "    tickers,\n",
    "    timeframe,\n",
    "    start=start_date,\n",
    "    end=end_date\n",
    ").df\n",
    "\n",
    "# Display sample data\n",
    "df_stock_data.head()"
   ]
  },
  {
   "cell_type": "code",
   "execution_count": 29,
   "metadata": {},
   "outputs": [
    {
     "data": {
      "text/html": [
       "<div>\n",
       "<style scoped>\n",
       "    .dataframe tbody tr th:only-of-type {\n",
       "        vertical-align: middle;\n",
       "    }\n",
       "\n",
       "    .dataframe tbody tr th {\n",
       "        vertical-align: top;\n",
       "    }\n",
       "\n",
       "    .dataframe thead tr th {\n",
       "        text-align: left;\n",
       "    }\n",
       "\n",
       "    .dataframe thead tr:last-of-type th {\n",
       "        text-align: right;\n",
       "    }\n",
       "</style>\n",
       "<table border=\"1\" class=\"dataframe\">\n",
       "  <thead>\n",
       "    <tr>\n",
       "      <th></th>\n",
       "      <th colspan=\"6\" halign=\"left\">AGG</th>\n",
       "      <th colspan=\"6\" halign=\"left\">SPY</th>\n",
       "    </tr>\n",
       "    <tr>\n",
       "      <th></th>\n",
       "      <th>open</th>\n",
       "      <th>high</th>\n",
       "      <th>low</th>\n",
       "      <th>close</th>\n",
       "      <th>volume</th>\n",
       "      <th>daily_return</th>\n",
       "      <th>open</th>\n",
       "      <th>high</th>\n",
       "      <th>low</th>\n",
       "      <th>close</th>\n",
       "      <th>volume</th>\n",
       "      <th>daily_return</th>\n",
       "    </tr>\n",
       "    <tr>\n",
       "      <th>time</th>\n",
       "      <th></th>\n",
       "      <th></th>\n",
       "      <th></th>\n",
       "      <th></th>\n",
       "      <th></th>\n",
       "      <th></th>\n",
       "      <th></th>\n",
       "      <th></th>\n",
       "      <th></th>\n",
       "      <th></th>\n",
       "      <th></th>\n",
       "      <th></th>\n",
       "    </tr>\n",
       "  </thead>\n",
       "  <tbody>\n",
       "    <tr>\n",
       "      <th>2019-10-07 00:00:00-04:00</th>\n",
       "      <td>113.64</td>\n",
       "      <td>113.7050</td>\n",
       "      <td>113.510</td>\n",
       "      <td>113.520</td>\n",
       "      <td>1828049</td>\n",
       "      <td>NaN</td>\n",
       "      <td>293.47</td>\n",
       "      <td>295.26</td>\n",
       "      <td>292.7700</td>\n",
       "      <td>293.11</td>\n",
       "      <td>51170613</td>\n",
       "      <td>NaN</td>\n",
       "    </tr>\n",
       "    <tr>\n",
       "      <th>2019-10-08 00:00:00-04:00</th>\n",
       "      <td>113.82</td>\n",
       "      <td>113.8200</td>\n",
       "      <td>113.485</td>\n",
       "      <td>113.550</td>\n",
       "      <td>2765236</td>\n",
       "      <td>0.000264</td>\n",
       "      <td>291.04</td>\n",
       "      <td>291.85</td>\n",
       "      <td>288.4900</td>\n",
       "      <td>288.55</td>\n",
       "      <td>82885280</td>\n",
       "      <td>-0.015557</td>\n",
       "    </tr>\n",
       "    <tr>\n",
       "      <th>2019-10-09 00:00:00-04:00</th>\n",
       "      <td>113.55</td>\n",
       "      <td>113.5600</td>\n",
       "      <td>113.359</td>\n",
       "      <td>113.485</td>\n",
       "      <td>2689301</td>\n",
       "      <td>-0.000572</td>\n",
       "      <td>290.75</td>\n",
       "      <td>292.30</td>\n",
       "      <td>290.0600</td>\n",
       "      <td>291.23</td>\n",
       "      <td>49246505</td>\n",
       "      <td>0.009288</td>\n",
       "    </tr>\n",
       "    <tr>\n",
       "      <th>2019-10-10 00:00:00-04:00</th>\n",
       "      <td>113.27</td>\n",
       "      <td>113.3300</td>\n",
       "      <td>113.030</td>\n",
       "      <td>113.090</td>\n",
       "      <td>3504667</td>\n",
       "      <td>-0.003481</td>\n",
       "      <td>291.18</td>\n",
       "      <td>294.21</td>\n",
       "      <td>291.0000</td>\n",
       "      <td>293.24</td>\n",
       "      <td>50981567</td>\n",
       "      <td>0.006902</td>\n",
       "    </tr>\n",
       "    <tr>\n",
       "      <th>2019-10-11 00:00:00-04:00</th>\n",
       "      <td>112.84</td>\n",
       "      <td>112.8501</td>\n",
       "      <td>112.585</td>\n",
       "      <td>112.730</td>\n",
       "      <td>3437394</td>\n",
       "      <td>-0.003183</td>\n",
       "      <td>296.27</td>\n",
       "      <td>298.74</td>\n",
       "      <td>296.1448</td>\n",
       "      <td>296.26</td>\n",
       "      <td>83204669</td>\n",
       "      <td>0.010299</td>\n",
       "    </tr>\n",
       "  </tbody>\n",
       "</table>\n",
       "</div>"
      ],
      "text/plain": [
       "                              AGG                                       \\\n",
       "                             open      high      low    close   volume   \n",
       "time                                                                     \n",
       "2019-10-07 00:00:00-04:00  113.64  113.7050  113.510  113.520  1828049   \n",
       "2019-10-08 00:00:00-04:00  113.82  113.8200  113.485  113.550  2765236   \n",
       "2019-10-09 00:00:00-04:00  113.55  113.5600  113.359  113.485  2689301   \n",
       "2019-10-10 00:00:00-04:00  113.27  113.3300  113.030  113.090  3504667   \n",
       "2019-10-11 00:00:00-04:00  112.84  112.8501  112.585  112.730  3437394   \n",
       "\n",
       "                                           SPY                            \\\n",
       "                          daily_return    open    high       low   close   \n",
       "time                                                                       \n",
       "2019-10-07 00:00:00-04:00          NaN  293.47  295.26  292.7700  293.11   \n",
       "2019-10-08 00:00:00-04:00     0.000264  291.04  291.85  288.4900  288.55   \n",
       "2019-10-09 00:00:00-04:00    -0.000572  290.75  292.30  290.0600  291.23   \n",
       "2019-10-10 00:00:00-04:00    -0.003481  291.18  294.21  291.0000  293.24   \n",
       "2019-10-11 00:00:00-04:00    -0.003183  296.27  298.74  296.1448  296.26   \n",
       "\n",
       "                                                  \n",
       "                             volume daily_return  \n",
       "time                                              \n",
       "2019-10-07 00:00:00-04:00  51170613          NaN  \n",
       "2019-10-08 00:00:00-04:00  82885280    -0.015557  \n",
       "2019-10-09 00:00:00-04:00  49246505     0.009288  \n",
       "2019-10-10 00:00:00-04:00  50981567     0.006902  \n",
       "2019-10-11 00:00:00-04:00  83204669     0.010299  "
      ]
     },
     "execution_count": 29,
     "metadata": {},
     "output_type": "execute_result"
    }
   ],
   "source": [
    "# Printing the simulation input data\n",
    "MC_five_years = MCSimulation(\n",
    "    portfolio_data = df_stock_data,\n",
    "    weights = [.40,.60],\n",
    "    num_simulation = 100,\n",
    "    num_trading_days = 252*5\n",
    ")\n",
    "MC_five_years_df = MC_five_years.portfolio_data\n",
    "MC_five_years_df.head()"
   ]
  },
  {
   "cell_type": "code",
   "execution_count": 30,
   "metadata": {},
   "outputs": [
    {
     "name": "stdout",
     "output_type": "stream",
     "text": [
      "Running Monte Carlo simulation number 0.\n",
      "Running Monte Carlo simulation number 10.\n",
      "Running Monte Carlo simulation number 20.\n",
      "Running Monte Carlo simulation number 30.\n",
      "Running Monte Carlo simulation number 40.\n",
      "Running Monte Carlo simulation number 50.\n",
      "Running Monte Carlo simulation number 60.\n",
      "Running Monte Carlo simulation number 70.\n",
      "Running Monte Carlo simulation number 80.\n",
      "Running Monte Carlo simulation number 90.\n"
     ]
    },
    {
     "data": {
      "text/html": [
       "<div>\n",
       "<style scoped>\n",
       "    .dataframe tbody tr th:only-of-type {\n",
       "        vertical-align: middle;\n",
       "    }\n",
       "\n",
       "    .dataframe tbody tr th {\n",
       "        vertical-align: top;\n",
       "    }\n",
       "\n",
       "    .dataframe thead th {\n",
       "        text-align: right;\n",
       "    }\n",
       "</style>\n",
       "<table border=\"1\" class=\"dataframe\">\n",
       "  <thead>\n",
       "    <tr style=\"text-align: right;\">\n",
       "      <th></th>\n",
       "      <th>0</th>\n",
       "      <th>1</th>\n",
       "      <th>2</th>\n",
       "      <th>3</th>\n",
       "      <th>4</th>\n",
       "      <th>5</th>\n",
       "      <th>6</th>\n",
       "      <th>7</th>\n",
       "      <th>8</th>\n",
       "      <th>9</th>\n",
       "      <th>...</th>\n",
       "      <th>90</th>\n",
       "      <th>91</th>\n",
       "      <th>92</th>\n",
       "      <th>93</th>\n",
       "      <th>94</th>\n",
       "      <th>95</th>\n",
       "      <th>96</th>\n",
       "      <th>97</th>\n",
       "      <th>98</th>\n",
       "      <th>99</th>\n",
       "    </tr>\n",
       "  </thead>\n",
       "  <tbody>\n",
       "    <tr>\n",
       "      <th>0</th>\n",
       "      <td>1.000000</td>\n",
       "      <td>1.000000</td>\n",
       "      <td>1.000000</td>\n",
       "      <td>1.000000</td>\n",
       "      <td>1.000000</td>\n",
       "      <td>1.000000</td>\n",
       "      <td>1.000000</td>\n",
       "      <td>1.000000</td>\n",
       "      <td>1.000000</td>\n",
       "      <td>1.000000</td>\n",
       "      <td>...</td>\n",
       "      <td>1.000000</td>\n",
       "      <td>1.000000</td>\n",
       "      <td>1.000000</td>\n",
       "      <td>1.000000</td>\n",
       "      <td>1.000000</td>\n",
       "      <td>1.000000</td>\n",
       "      <td>1.000000</td>\n",
       "      <td>1.000000</td>\n",
       "      <td>1.000000</td>\n",
       "      <td>1.000000</td>\n",
       "    </tr>\n",
       "    <tr>\n",
       "      <th>1</th>\n",
       "      <td>0.999426</td>\n",
       "      <td>1.012406</td>\n",
       "      <td>0.999210</td>\n",
       "      <td>0.999640</td>\n",
       "      <td>0.989800</td>\n",
       "      <td>0.996966</td>\n",
       "      <td>1.009390</td>\n",
       "      <td>1.006375</td>\n",
       "      <td>0.998614</td>\n",
       "      <td>1.005550</td>\n",
       "      <td>...</td>\n",
       "      <td>1.005262</td>\n",
       "      <td>0.994976</td>\n",
       "      <td>1.014297</td>\n",
       "      <td>1.002030</td>\n",
       "      <td>1.007016</td>\n",
       "      <td>0.996997</td>\n",
       "      <td>0.999775</td>\n",
       "      <td>0.999892</td>\n",
       "      <td>0.999253</td>\n",
       "      <td>1.008727</td>\n",
       "    </tr>\n",
       "    <tr>\n",
       "      <th>2</th>\n",
       "      <td>0.993895</td>\n",
       "      <td>1.022569</td>\n",
       "      <td>1.004234</td>\n",
       "      <td>0.998151</td>\n",
       "      <td>1.000880</td>\n",
       "      <td>1.003212</td>\n",
       "      <td>1.008343</td>\n",
       "      <td>1.007218</td>\n",
       "      <td>1.002551</td>\n",
       "      <td>0.997426</td>\n",
       "      <td>...</td>\n",
       "      <td>1.000246</td>\n",
       "      <td>0.998394</td>\n",
       "      <td>1.016022</td>\n",
       "      <td>0.985974</td>\n",
       "      <td>1.009854</td>\n",
       "      <td>1.007636</td>\n",
       "      <td>1.004119</td>\n",
       "      <td>0.999734</td>\n",
       "      <td>1.008429</td>\n",
       "      <td>1.001563</td>\n",
       "    </tr>\n",
       "    <tr>\n",
       "      <th>3</th>\n",
       "      <td>0.997387</td>\n",
       "      <td>1.026191</td>\n",
       "      <td>0.998989</td>\n",
       "      <td>0.993462</td>\n",
       "      <td>1.002848</td>\n",
       "      <td>1.007169</td>\n",
       "      <td>1.021146</td>\n",
       "      <td>1.002032</td>\n",
       "      <td>1.004462</td>\n",
       "      <td>1.005547</td>\n",
       "      <td>...</td>\n",
       "      <td>1.004914</td>\n",
       "      <td>0.997629</td>\n",
       "      <td>1.017209</td>\n",
       "      <td>0.994832</td>\n",
       "      <td>1.016021</td>\n",
       "      <td>1.002460</td>\n",
       "      <td>1.005548</td>\n",
       "      <td>1.004964</td>\n",
       "      <td>1.020565</td>\n",
       "      <td>0.997513</td>\n",
       "    </tr>\n",
       "    <tr>\n",
       "      <th>4</th>\n",
       "      <td>0.998100</td>\n",
       "      <td>1.031596</td>\n",
       "      <td>0.993122</td>\n",
       "      <td>0.987968</td>\n",
       "      <td>0.997994</td>\n",
       "      <td>1.018873</td>\n",
       "      <td>1.027333</td>\n",
       "      <td>1.003134</td>\n",
       "      <td>1.006919</td>\n",
       "      <td>1.009944</td>\n",
       "      <td>...</td>\n",
       "      <td>1.012233</td>\n",
       "      <td>0.997880</td>\n",
       "      <td>1.016264</td>\n",
       "      <td>1.001843</td>\n",
       "      <td>1.014883</td>\n",
       "      <td>1.005918</td>\n",
       "      <td>1.008136</td>\n",
       "      <td>1.009488</td>\n",
       "      <td>1.017096</td>\n",
       "      <td>0.994338</td>\n",
       "    </tr>\n",
       "    <tr>\n",
       "      <th>...</th>\n",
       "      <td>...</td>\n",
       "      <td>...</td>\n",
       "      <td>...</td>\n",
       "      <td>...</td>\n",
       "      <td>...</td>\n",
       "      <td>...</td>\n",
       "      <td>...</td>\n",
       "      <td>...</td>\n",
       "      <td>...</td>\n",
       "      <td>...</td>\n",
       "      <td>...</td>\n",
       "      <td>...</td>\n",
       "      <td>...</td>\n",
       "      <td>...</td>\n",
       "      <td>...</td>\n",
       "      <td>...</td>\n",
       "      <td>...</td>\n",
       "      <td>...</td>\n",
       "      <td>...</td>\n",
       "      <td>...</td>\n",
       "      <td>...</td>\n",
       "    </tr>\n",
       "    <tr>\n",
       "      <th>7556</th>\n",
       "      <td>146.621090</td>\n",
       "      <td>68.777041</td>\n",
       "      <td>181.206155</td>\n",
       "      <td>63.373856</td>\n",
       "      <td>308.667679</td>\n",
       "      <td>196.452845</td>\n",
       "      <td>231.839639</td>\n",
       "      <td>83.116603</td>\n",
       "      <td>107.151361</td>\n",
       "      <td>56.400100</td>\n",
       "      <td>...</td>\n",
       "      <td>197.234227</td>\n",
       "      <td>331.121158</td>\n",
       "      <td>138.096655</td>\n",
       "      <td>102.772813</td>\n",
       "      <td>117.397405</td>\n",
       "      <td>98.392512</td>\n",
       "      <td>260.583777</td>\n",
       "      <td>142.878703</td>\n",
       "      <td>83.741385</td>\n",
       "      <td>324.293780</td>\n",
       "    </tr>\n",
       "    <tr>\n",
       "      <th>7557</th>\n",
       "      <td>145.644742</td>\n",
       "      <td>69.598774</td>\n",
       "      <td>181.925112</td>\n",
       "      <td>63.131048</td>\n",
       "      <td>310.711160</td>\n",
       "      <td>196.141409</td>\n",
       "      <td>230.410244</td>\n",
       "      <td>83.773132</td>\n",
       "      <td>106.439619</td>\n",
       "      <td>56.214740</td>\n",
       "      <td>...</td>\n",
       "      <td>197.798181</td>\n",
       "      <td>332.542466</td>\n",
       "      <td>138.625080</td>\n",
       "      <td>101.310073</td>\n",
       "      <td>116.868259</td>\n",
       "      <td>98.606688</td>\n",
       "      <td>258.191418</td>\n",
       "      <td>142.251644</td>\n",
       "      <td>84.040040</td>\n",
       "      <td>321.707387</td>\n",
       "    </tr>\n",
       "    <tr>\n",
       "      <th>7558</th>\n",
       "      <td>144.655941</td>\n",
       "      <td>69.891416</td>\n",
       "      <td>182.383881</td>\n",
       "      <td>63.004582</td>\n",
       "      <td>311.661227</td>\n",
       "      <td>195.877294</td>\n",
       "      <td>230.366014</td>\n",
       "      <td>84.025758</td>\n",
       "      <td>106.682298</td>\n",
       "      <td>56.344960</td>\n",
       "      <td>...</td>\n",
       "      <td>197.118233</td>\n",
       "      <td>334.008338</td>\n",
       "      <td>138.516011</td>\n",
       "      <td>102.053754</td>\n",
       "      <td>118.559323</td>\n",
       "      <td>97.362758</td>\n",
       "      <td>259.846980</td>\n",
       "      <td>143.270228</td>\n",
       "      <td>84.587355</td>\n",
       "      <td>321.186443</td>\n",
       "    </tr>\n",
       "    <tr>\n",
       "      <th>7559</th>\n",
       "      <td>144.432099</td>\n",
       "      <td>68.785965</td>\n",
       "      <td>182.311365</td>\n",
       "      <td>62.969161</td>\n",
       "      <td>310.133631</td>\n",
       "      <td>196.206331</td>\n",
       "      <td>227.852984</td>\n",
       "      <td>84.096209</td>\n",
       "      <td>105.332512</td>\n",
       "      <td>56.298222</td>\n",
       "      <td>...</td>\n",
       "      <td>198.216875</td>\n",
       "      <td>330.469460</td>\n",
       "      <td>137.534734</td>\n",
       "      <td>102.560440</td>\n",
       "      <td>118.685258</td>\n",
       "      <td>96.615611</td>\n",
       "      <td>261.360530</td>\n",
       "      <td>144.095877</td>\n",
       "      <td>84.546585</td>\n",
       "      <td>324.303090</td>\n",
       "    </tr>\n",
       "    <tr>\n",
       "      <th>7560</th>\n",
       "      <td>144.615409</td>\n",
       "      <td>68.059978</td>\n",
       "      <td>183.613402</td>\n",
       "      <td>62.576903</td>\n",
       "      <td>309.367249</td>\n",
       "      <td>197.313551</td>\n",
       "      <td>224.365800</td>\n",
       "      <td>85.580448</td>\n",
       "      <td>104.884275</td>\n",
       "      <td>56.581724</td>\n",
       "      <td>...</td>\n",
       "      <td>198.594570</td>\n",
       "      <td>331.315177</td>\n",
       "      <td>137.135847</td>\n",
       "      <td>102.743783</td>\n",
       "      <td>117.580824</td>\n",
       "      <td>96.055178</td>\n",
       "      <td>261.090640</td>\n",
       "      <td>145.470443</td>\n",
       "      <td>84.554418</td>\n",
       "      <td>324.021720</td>\n",
       "    </tr>\n",
       "  </tbody>\n",
       "</table>\n",
       "<p>7561 rows × 100 columns</p>\n",
       "</div>"
      ],
      "text/plain": [
       "              0          1           2          3           4           5   \\\n",
       "0       1.000000   1.000000    1.000000   1.000000    1.000000    1.000000   \n",
       "1       0.999426   1.012406    0.999210   0.999640    0.989800    0.996966   \n",
       "2       0.993895   1.022569    1.004234   0.998151    1.000880    1.003212   \n",
       "3       0.997387   1.026191    0.998989   0.993462    1.002848    1.007169   \n",
       "4       0.998100   1.031596    0.993122   0.987968    0.997994    1.018873   \n",
       "...          ...        ...         ...        ...         ...         ...   \n",
       "7556  146.621090  68.777041  181.206155  63.373856  308.667679  196.452845   \n",
       "7557  145.644742  69.598774  181.925112  63.131048  310.711160  196.141409   \n",
       "7558  144.655941  69.891416  182.383881  63.004582  311.661227  195.877294   \n",
       "7559  144.432099  68.785965  182.311365  62.969161  310.133631  196.206331   \n",
       "7560  144.615409  68.059978  183.613402  62.576903  309.367249  197.313551   \n",
       "\n",
       "              6          7           8          9   ...          90  \\\n",
       "0       1.000000   1.000000    1.000000   1.000000  ...    1.000000   \n",
       "1       1.009390   1.006375    0.998614   1.005550  ...    1.005262   \n",
       "2       1.008343   1.007218    1.002551   0.997426  ...    1.000246   \n",
       "3       1.021146   1.002032    1.004462   1.005547  ...    1.004914   \n",
       "4       1.027333   1.003134    1.006919   1.009944  ...    1.012233   \n",
       "...          ...        ...         ...        ...  ...         ...   \n",
       "7556  231.839639  83.116603  107.151361  56.400100  ...  197.234227   \n",
       "7557  230.410244  83.773132  106.439619  56.214740  ...  197.798181   \n",
       "7558  230.366014  84.025758  106.682298  56.344960  ...  197.118233   \n",
       "7559  227.852984  84.096209  105.332512  56.298222  ...  198.216875   \n",
       "7560  224.365800  85.580448  104.884275  56.581724  ...  198.594570   \n",
       "\n",
       "              91          92          93          94         95          96  \\\n",
       "0       1.000000    1.000000    1.000000    1.000000   1.000000    1.000000   \n",
       "1       0.994976    1.014297    1.002030    1.007016   0.996997    0.999775   \n",
       "2       0.998394    1.016022    0.985974    1.009854   1.007636    1.004119   \n",
       "3       0.997629    1.017209    0.994832    1.016021   1.002460    1.005548   \n",
       "4       0.997880    1.016264    1.001843    1.014883   1.005918    1.008136   \n",
       "...          ...         ...         ...         ...        ...         ...   \n",
       "7556  331.121158  138.096655  102.772813  117.397405  98.392512  260.583777   \n",
       "7557  332.542466  138.625080  101.310073  116.868259  98.606688  258.191418   \n",
       "7558  334.008338  138.516011  102.053754  118.559323  97.362758  259.846980   \n",
       "7559  330.469460  137.534734  102.560440  118.685258  96.615611  261.360530   \n",
       "7560  331.315177  137.135847  102.743783  117.580824  96.055178  261.090640   \n",
       "\n",
       "              97         98          99  \n",
       "0       1.000000   1.000000    1.000000  \n",
       "1       0.999892   0.999253    1.008727  \n",
       "2       0.999734   1.008429    1.001563  \n",
       "3       1.004964   1.020565    0.997513  \n",
       "4       1.009488   1.017096    0.994338  \n",
       "...          ...        ...         ...  \n",
       "7556  142.878703  83.741385  324.293780  \n",
       "7557  142.251644  84.040040  321.707387  \n",
       "7558  143.270228  84.587355  321.186443  \n",
       "7559  144.095877  84.546585  324.303090  \n",
       "7560  145.470443  84.554418  324.021720  \n",
       "\n",
       "[7561 rows x 100 columns]"
      ]
     },
     "execution_count": 30,
     "metadata": {},
     "output_type": "execute_result"
    }
   ],
   "source": [
    "# Running a Monte Carlo simulation to forecast 30 years cumulative returns\n",
    "start_date = pd.Timestamp('2015-02-28', tz='America/New_York').isoformat()\n",
    "end_date = pd.Timestamp('2045-02-28', tz='America/New_York').isoformat()\n",
    "\n",
    "df_stock_data_30 = alpaca.get_barset(\n",
    "    tickers,\n",
    "    timeframe,\n",
    "    start=start_date,\n",
    "    end=end_date\n",
    ").df\n",
    "\n",
    "MC_30_years = MCSimulation(\n",
    "    portfolio_data = df_stock_data_30,\n",
    "    weights = [.40,.60],\n",
    "    num_simulation = 100,\n",
    "    num_trading_days = 252*30\n",
    ")\n",
    "cum_returns = MC_30_years.calc_cumulative_return()\n",
    "cum_returns"
   ]
  },
  {
   "cell_type": "code",
   "execution_count": 31,
   "metadata": {},
   "outputs": [
    {
     "data": {
      "image/png": "[encoded data removed]",
      "text/plain": [
       "<Figure size 432x288 with 1 Axes>"
      ]
     },
     "metadata": {
      "needs_background": "light"
     },
     "output_type": "display_data"
    }
   ],
   "source": [
    "# Plot simulation outcomes\n",
    "line_plot = MC_30_years.plot_simulation()"
   ]
  },
  {
   "cell_type": "code",
   "execution_count": 32,
   "metadata": {},
   "outputs": [
    {
     "data": {
      "image/png": "[encoded data removed]",
      "text/plain": [
       "<Figure size 432x288 with 1 Axes>"
      ]
     },
     "metadata": {
      "needs_background": "light"
     },
     "output_type": "display_data"
    }
   ],
   "source": [
    "# Plot probability distribution and confidence intervals\n",
    "dist_plot = MC_30_years.plot_distribution()"
   ]
  },
  {
   "cell_type": "markdown",
   "metadata": {},
   "source": [
    "### Retirement Analysis"
   ]
  },
  {
   "cell_type": "code",
   "execution_count": 33,
   "metadata": {},
   "outputs": [
    {
     "name": "stdout",
     "output_type": "stream",
     "text": [
      "count           100.000000\n",
      "mean            132.824173\n",
      "std              75.599068\n",
      "min              24.230457\n",
      "25%              81.165200\n",
      "50%             112.703503\n",
      "75%             171.230642\n",
      "max             359.462224\n",
      "95% CI Lower     44.285103\n",
      "95% CI Upper    327.850785\n",
      "Name: 7560, dtype: float64\n"
     ]
    }
   ],
   "source": [
    "# Fetch summary statistics from the Monte Carlo simulation results\n",
    "tbl = MC_30_years.summarize_cumulative_return()\n",
    "\n",
    "# Print summary statistics\n",
    "print(tbl)"
   ]
  },
  {
   "cell_type": "markdown",
   "metadata": {},
   "source": [
    "### Calculate the expected portfolio return at the 95% lower and upper confidence intervals based on a `$20,000` initial investment."
   ]
  },
  {
   "cell_type": "code",
   "execution_count": 34,
   "metadata": {},
   "outputs": [
    {
     "name": "stdout",
     "output_type": "stream",
     "text": [
      "There is a 95% chance that an initial investment of $20000 in the portfolio over the next 30 years will end within in the range of $885702.06 and $6557015.7\n"
     ]
    }
   ],
   "source": [
    "# Set initial investment\n",
    "initial_investment = 20000\n",
    "\n",
    "# Use the lower and upper `95%` confidence intervals to calculate the range of the possible outcomes of our $20,000\n",
    "ci_lower = round(tbl[8]*20000,2)\n",
    "ci_upper = round(tbl[9]*20000,2)\n",
    "\n",
    "# Print results\n",
    "print(f\"There is a 95% chance that an initial investment of ${initial_investment} in the portfolio\"\n",
    "      f\" over the next 30 years will end within in the range of\"\n",
    "      f\" ${ci_lower} and ${ci_upper}\")"
   ]
  },
  {
   "cell_type": "markdown",
   "metadata": {},
   "source": [
    "### Calculate the expected portfolio return at the `95%` lower and upper confidence intervals based on a `50%` increase in the initial investment."
   ]
  },
  {
   "cell_type": "code",
   "execution_count": 35,
   "metadata": {},
   "outputs": [
    {
     "name": "stdout",
     "output_type": "stream",
     "text": [
      "There is a 95% chance that an initial investment of $30000.0 in the portfolio over the next 30 years will end within in the range of $1328553.1 and $9835523.55\n"
     ]
    }
   ],
   "source": [
    "# Set initial investment\n",
    "initial_investment = 20000 * 1.5\n",
    "\n",
    "# Use the lower and upper `95%` confidence intervals to calculate the range of the possible outcomes of our $30,000\n",
    "ci_lower = round(tbl[8]*initial_investment,2)\n",
    "ci_upper = round(tbl[9]*initial_investment,2)\n",
    "\n",
    "# Print results\n",
    "print(f\"There is a 95% chance that an initial investment of ${initial_investment} in the portfolio\"\n",
    "      f\" over the next 30 years will end within in the range of\"\n",
    "      f\" ${ci_lower} and ${ci_upper}\")"
   ]
  },
  {
   "cell_type": "markdown",
   "metadata": {},
   "source": [
    "## Optional Challenge - Early Retirement\n",
    "\n",
    "\n",
    "### Five Years Retirement Option"
   ]
  },
  {
   "cell_type": "code",
   "execution_count": null,
   "metadata": {},
   "outputs": [],
   "source": [
    "# Configuring a Monte Carlo simulation to forecast 5 years cumulative returns\n",
    "# YOUR CODE HERE!"
   ]
  },
  {
   "cell_type": "code",
   "execution_count": null,
   "metadata": {},
   "outputs": [],
   "source": [
    "# Running a Monte Carlo simulation to forecast 5 years cumulative returns\n",
    "# YOUR CODE HERE!"
   ]
  },
  {
   "cell_type": "code",
   "execution_count": null,
   "metadata": {},
   "outputs": [],
   "source": [
    "# Plot simulation outcomes\n",
    "# YOUR CODE HERE!"
   ]
  },
  {
   "cell_type": "code",
   "execution_count": null,
   "metadata": {},
   "outputs": [],
   "source": [
    "# Plot probability distribution and confidence intervals\n",
    "# YOUR CODE HERE!"
   ]
  },
  {
   "cell_type": "code",
   "execution_count": null,
   "metadata": {},
   "outputs": [],
   "source": [
    "# Fetch summary statistics from the Monte Carlo simulation results\n",
    "# YOUR CODE HERE!\n",
    "\n",
    "# Print summary statistics\n",
    "# YOUR CODE HERE!"
   ]
  },
  {
   "cell_type": "code",
   "execution_count": null,
   "metadata": {},
   "outputs": [],
   "source": [
    "# Set initial investment\n",
    "# YOUR CODE HERE!\n",
    "\n",
    "# Use the lower and upper `95%` confidence intervals to calculate the range of the possible outcomes of our $60,000\n",
    "# YOUR CODE HERE!\n",
    "\n",
    "# Print results\n",
    "print(f\"There is a 95% chance that an initial investment of ${initial_investment} in the portfolio\"\n",
    "      f\" over the next 5 years will end within in the range of\"\n",
    "      f\" ${ci_lower_five} and ${ci_upper_five}\")"
   ]
  },
  {
   "cell_type": "markdown",
   "metadata": {},
   "source": [
    "### Ten Years Retirement Option"
   ]
  },
  {
   "cell_type": "code",
   "execution_count": null,
   "metadata": {},
   "outputs": [],
   "source": [
    "# Configuring a Monte Carlo simulation to forecast 10 years cumulative returns\n",
    "# YOUR CODE HERE!"
   ]
  },
  {
   "cell_type": "code",
   "execution_count": null,
   "metadata": {},
   "outputs": [],
   "source": [
    "# Running a Monte Carlo simulation to forecast 10 years cumulative returns\n",
    "# YOUR CODE HERE!"
   ]
  },
  {
   "cell_type": "code",
   "execution_count": null,
   "metadata": {},
   "outputs": [],
   "source": [
    "# Plot simulation outcomes\n",
    "# YOUR CODE HERE!"
   ]
  },
  {
   "cell_type": "code",
   "execution_count": null,
   "metadata": {},
   "outputs": [],
   "source": [
    "# Plot probability distribution and confidence intervals\n",
    "# YOUR CODE HERE!"
   ]
  },
  {
   "cell_type": "code",
   "execution_count": null,
   "metadata": {},
   "outputs": [],
   "source": [
    "# Fetch summary statistics from the Monte Carlo simulation results\n",
    "# YOUR CODE HERE!\n",
    "\n",
    "# Print summary statistics\n",
    "# YOUR CODE HERE!"
   ]
  },
  {
   "cell_type": "code",
   "execution_count": null,
   "metadata": {},
   "outputs": [],
   "source": [
    "# Set initial investment\n",
    "# YOUR CODE HERE!\n",
    "\n",
    "# Use the lower and upper `95%` confidence intervals to calculate the range of the possible outcomes of our $60,000\n",
    "# YOUR CODE HERE!\n",
    "\n",
    "# Print results\n",
    "print(f\"There is a 95% chance that an initial investment of ${initial_investment} in the portfolio\"\n",
    "      f\" over the next 10 years will end within in the range of\"\n",
    "      f\" ${ci_lower_ten} and ${ci_upper_ten}\")"
   ]
  }
 ],
 "metadata": {
  "kernelspec": {
   "display_name": "Python 3",
   "language": "python",
   "name": "python3"
  },
  "language_info": {
   "codemirror_mode": {
    "name": "ipython",
    "version": 3
   },
   "file_extension": ".py",
   "mimetype": "text/x-python",
   "name": "python",
   "nbconvert_exporter": "python",
   "pygments_lexer": "ipython3",
   "version": "3.7.9"
  }
 },
 "nbformat": 4,
 "nbformat_minor": 4
}
