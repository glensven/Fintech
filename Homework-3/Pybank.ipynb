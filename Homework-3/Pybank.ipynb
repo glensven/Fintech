{
 "cells": [
  {
   "cell_type": "code",
   "execution_count": 14,
   "metadata": {},
   "outputs": [],
   "source": [
    "# Import the pathlib library\n",
    "import pathlib "
   ]
  },
  {
   "cell_type": "code",
   "execution_count": 15,
   "metadata": {},
   "outputs": [],
   "source": [
    "# Import from the pathlib library, the main class Path and the csv library\n",
    "from pathlib import Path\n",
    "import csv"
   ]
  },
  {
   "cell_type": "code",
   "execution_count": 16,
   "metadata": {},
   "outputs": [
    {
     "name": "stdout",
     "output_type": "stream",
     "text": [
      "Current working directory: C:\\Users\\Glen\\Documents\\GitHub\\python-homework\n"
     ]
    }
   ],
   "source": [
    "# Check the current directory where the Python program is executing from\n",
    "print(f\"Current working directory: {Path.cwd()}\")"
   ]
  },
  {
   "cell_type": "code",
   "execution_count": 17,
   "metadata": {},
   "outputs": [],
   "source": [
    "# Set the file path\n",
    "csvpath = Path(\"../python-homework/budget_data.csv\")\n",
    "\n",
    "# Initialize dictionary\n",
    "analysis = {}"
   ]
  },
  {
   "cell_type": "code",
   "execution_count": 18,
   "metadata": {},
   "outputs": [
    {
     "name": "stdout",
     "output_type": "stream",
     "text": [
      "Financial Analysis\n",
      "----------------------------\n",
      "Total Months: 86\n",
      "Total: $38382578\n",
      "Average Change: $-2315.12\n",
      "Greatest Increase in Profits: Feb-2012 ($1926159) \n",
      "Greatest Increase in Losses: Sep-2013 ($-2196167) \n"
     ]
    }
   ],
   "source": [
    "#Open the csv file as an object\n",
    "Row_Count = 0\n",
    "Total = 0\n",
    "Profit_Losses = 0\n",
    "Max_Profit = 0\n",
    "Max_Losses = 0\n",
    "Delta = 0\n",
    "Start = 867884\n",
    "with open(csvpath, \"r\") as csvfile: \n",
    "    \n",
    "    # Pass in the csv file to the csv.reader() function (use ',' as the delimiter) then return the csvreader object\n",
    "    csvreader = csv.reader(csvfile, delimiter = \",\")  \n",
    "    \n",
    "    # Read the header row first\n",
    "    csv_header = next(csvreader) \n",
    "    \n",
    "    # Create a for loop for each row in csvreader\n",
    "    for row in csvreader:\n",
    "        # The total number of months (rows) included in the dataset\n",
    "        Row_Count += 1\n",
    "        # The net total amount of Profit/Losses over the entire period.\n",
    "        Total += int(row[1])\n",
    "        \n",
    "        # Set the 'Date' and 'Profit/Losses' variables\n",
    "        Date = row[0]\n",
    "        Profit_Losses_1 = Profit_Losses\n",
    "        Profit_Losses = int(row[1])\n",
    "        Delta = Profit_Losses - Profit_Losses_1\n",
    "        \n",
    "    # Logic to determine min and max salaries\n",
    "        if Max_Profit == 0:\n",
    "            Max_Profit = Delta\n",
    "            Max_Losses = Delta\n",
    "        elif Max_Profit < Delta:\n",
    "            Max_Profit = Delta\n",
    "            Profit_Date = Date\n",
    "        elif Max_Losses > Delta:\n",
    "            Max_Losses = Delta\n",
    "            Losses_Date = Date\n",
    "        \n",
    "\n",
    "    # Average change over months 1 to 86   \n",
    "    Average = round((Profit_Losses - Start)/(Row_Count-1), 2)\n",
    "\n",
    "print(\"Financial Analysis\")\n",
    "print(\"----------------------------\")\n",
    "print(f\"Total Months: {Row_Count}\")\n",
    "print(f\"Total: ${Total}\")\n",
    "print(f\"Average Change: ${Average}\")\n",
    "print(f\"Greatest Increase in Profits: {Profit_Date} (${Max_Profit}) \")\n",
    "print(f\"Greatest Increase in Losses: {Losses_Date} (${Max_Losses}) \")\n"
   ]
  },
  {
   "cell_type": "code",
   "execution_count": null,
   "metadata": {},
   "outputs": [],
   "source": []
  },
  {
   "cell_type": "code",
   "execution_count": null,
   "metadata": {},
   "outputs": [],
   "source": []
  },
  {
   "cell_type": "code",
   "execution_count": null,
   "metadata": {},
   "outputs": [],
   "source": []
  },
  {
   "cell_type": "code",
   "execution_count": null,
   "metadata": {},
   "outputs": [],
   "source": []
  },
  {
   "cell_type": "code",
   "execution_count": null,
   "metadata": {},
   "outputs": [],
   "source": []
  }
 ],
 "metadata": {
  "kernelspec": {
   "display_name": "Python 3.8 (XPython)",
   "language": "python",
   "name": "xpython"
  },
  "language_info": {
   "file_extension": ".py",
   "mimetype": "text/x-python",
   "name": "python",
   "version": "3.8.6"
  }
 },
 "nbformat": 4,
 "nbformat_minor": 4
}
