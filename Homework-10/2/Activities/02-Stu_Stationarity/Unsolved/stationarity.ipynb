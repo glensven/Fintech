{
 "cells": [
  {
   "cell_type": "code",
   "execution_count": 1,
   "metadata": {},
   "outputs": [
    {
     "name": "stderr",
     "output_type": "stream",
     "text": [
      "\n",
      "Bad key \"text.kerning_factor\" on line 4 in\n",
      "C:\\Users\\Glen\\anaconda3\\envs\\pyvizenv_2\\lib\\site-packages\\matplotlib\\mpl-data\\stylelib\\_classic_test_patch.mplstyle.\n",
      "You probably need to get an updated matplotlibrc file from\n",
      "http://github.com/matplotlib/matplotlib/blob/master/matplotlibrc.template\n",
      "or from the matplotlib source distribution\n"
     ]
    }
   ],
   "source": [
    "import pandas as pd\n",
    "%matplotlib inline\n",
    "import numpy as np"
   ]
  },
  {
   "cell_type": "code",
   "execution_count": 2,
   "metadata": {},
   "outputs": [],
   "source": [
    "from pathlib import Path\n",
    "csvpath = Path('../Resources/amazon.csv')\n",
    "df = pd.read_csv(csvpath, parse_dates=True, index_col='Date')"
   ]
  },
  {
   "cell_type": "code",
   "execution_count": 3,
   "metadata": {},
   "outputs": [
    {
     "data": {
      "text/html": [
       "<div>\n",
       "<style scoped>\n",
       "    .dataframe tbody tr th:only-of-type {\n",
       "        vertical-align: middle;\n",
       "    }\n",
       "\n",
       "    .dataframe tbody tr th {\n",
       "        vertical-align: top;\n",
       "    }\n",
       "\n",
       "    .dataframe thead th {\n",
       "        text-align: right;\n",
       "    }\n",
       "</style>\n",
       "<table border=\"1\" class=\"dataframe\">\n",
       "  <thead>\n",
       "    <tr style=\"text-align: right;\">\n",
       "      <th></th>\n",
       "      <th>Open</th>\n",
       "      <th>High</th>\n",
       "      <th>Low</th>\n",
       "      <th>Close</th>\n",
       "      <th>Adj Close</th>\n",
       "      <th>Volume</th>\n",
       "      <th>Diff</th>\n",
       "    </tr>\n",
       "    <tr>\n",
       "      <th>Date</th>\n",
       "      <th></th>\n",
       "      <th></th>\n",
       "      <th></th>\n",
       "      <th></th>\n",
       "      <th></th>\n",
       "      <th></th>\n",
       "      <th></th>\n",
       "    </tr>\n",
       "  </thead>\n",
       "  <tbody>\n",
       "    <tr>\n",
       "      <th>2009-01-02</th>\n",
       "      <td>51.349998</td>\n",
       "      <td>54.529999</td>\n",
       "      <td>51.070000</td>\n",
       "      <td>54.360001</td>\n",
       "      <td>54.360001</td>\n",
       "      <td>7296400</td>\n",
       "      <td>3.080002</td>\n",
       "    </tr>\n",
       "    <tr>\n",
       "      <th>2009-01-05</th>\n",
       "      <td>55.730000</td>\n",
       "      <td>55.740002</td>\n",
       "      <td>53.029999</td>\n",
       "      <td>54.060001</td>\n",
       "      <td>54.060001</td>\n",
       "      <td>9509800</td>\n",
       "      <td>-0.300000</td>\n",
       "    </tr>\n",
       "    <tr>\n",
       "      <th>2009-01-06</th>\n",
       "      <td>54.549999</td>\n",
       "      <td>58.220001</td>\n",
       "      <td>53.750000</td>\n",
       "      <td>57.360001</td>\n",
       "      <td>57.360001</td>\n",
       "      <td>11080100</td>\n",
       "      <td>3.300000</td>\n",
       "    </tr>\n",
       "    <tr>\n",
       "      <th>2009-01-07</th>\n",
       "      <td>56.290001</td>\n",
       "      <td>56.950001</td>\n",
       "      <td>55.349998</td>\n",
       "      <td>56.200001</td>\n",
       "      <td>56.200001</td>\n",
       "      <td>7942700</td>\n",
       "      <td>-1.160000</td>\n",
       "    </tr>\n",
       "    <tr>\n",
       "      <th>2009-01-08</th>\n",
       "      <td>54.990002</td>\n",
       "      <td>57.320000</td>\n",
       "      <td>54.580002</td>\n",
       "      <td>57.160000</td>\n",
       "      <td>57.160000</td>\n",
       "      <td>6577900</td>\n",
       "      <td>0.959999</td>\n",
       "    </tr>\n",
       "  </tbody>\n",
       "</table>\n",
       "</div>"
      ],
      "text/plain": [
       "                 Open       High        Low      Close  Adj Close    Volume  \\\n",
       "Date                                                                          \n",
       "2009-01-02  51.349998  54.529999  51.070000  54.360001  54.360001   7296400   \n",
       "2009-01-05  55.730000  55.740002  53.029999  54.060001  54.060001   9509800   \n",
       "2009-01-06  54.549999  58.220001  53.750000  57.360001  57.360001  11080100   \n",
       "2009-01-07  56.290001  56.950001  55.349998  56.200001  56.200001   7942700   \n",
       "2009-01-08  54.990002  57.320000  54.580002  57.160000  57.160000   6577900   \n",
       "\n",
       "                Diff  \n",
       "Date                  \n",
       "2009-01-02  3.080002  \n",
       "2009-01-05 -0.300000  \n",
       "2009-01-06  3.300000  \n",
       "2009-01-07 -1.160000  \n",
       "2009-01-08  0.959999  "
      ]
     },
     "execution_count": 3,
     "metadata": {},
     "output_type": "execute_result"
    }
   ],
   "source": [
    "df.head()"
   ]
  },
  {
   "cell_type": "code",
   "execution_count": 4,
   "metadata": {},
   "outputs": [
    {
     "data": {
      "text/plain": [
       "<matplotlib.axes._subplots.AxesSubplot at 0x1f6cdad6708>"
      ]
     },
     "execution_count": 4,
     "metadata": {},
     "output_type": "execute_result"
    },
    {
     "data": {
      "image/png": "[encoded data removed]",
      "text/plain": [
       "<Figure size 432x288 with 1 Axes>"
      ]
     },
     "metadata": {
      "needs_background": "light"
     },
     "output_type": "display_data"
    }
   ],
   "source": [
    "df.Close.plot()"
   ]
  },
  {
   "cell_type": "code",
   "execution_count": 6,
   "metadata": {},
   "outputs": [
    {
     "name": "stdout",
     "output_type": "stream",
     "text": [
      "ADF Statistic: -1.664892\n",
      "p-value: 0.449286\n",
      "Critical Values:\n",
      "/t1%: -3.439041\n",
      "/t5%: -2.865376\n",
      "/t10%: -2.568813\n"
     ]
    }
   ],
   "source": [
    "# Apply the Augmented Dickey-Fuller test to determine if the above is stationary\n",
    "from statsmodels.tsa.stattools import adfuller\n",
    "\n",
    "results=adfuller(df.Close)\n",
    "print('ADF Statistic: %f' % results[0])\n",
    "print('p-value: %f' % results[1])\n",
    "print('Critical Values:')\n",
    "for key, value in results[4].items():\n",
    "    print('/t%s: %f' % (key,value))"
   ]
  },
  {
   "cell_type": "markdown",
   "metadata": {},
   "source": [
    "# Non-Stationary to Stationary Techniques"
   ]
  },
  {
   "cell_type": "markdown",
   "metadata": {},
   "source": [
    "### Technique 1: Applying a Percent Change"
   ]
  },
  {
   "cell_type": "code",
   "execution_count": 7,
   "metadata": {},
   "outputs": [],
   "source": [
    "# Convert to stationary data by taking the `pct_change` of the Closing prices.\n",
    "df['Returns'] = df.Close.pct_change()"
   ]
  },
  {
   "cell_type": "code",
   "execution_count": 8,
   "metadata": {},
   "outputs": [
    {
     "data": {
      "text/html": [
       "<div>\n",
       "<style scoped>\n",
       "    .dataframe tbody tr th:only-of-type {\n",
       "        vertical-align: middle;\n",
       "    }\n",
       "\n",
       "    .dataframe tbody tr th {\n",
       "        vertical-align: top;\n",
       "    }\n",
       "\n",
       "    .dataframe thead th {\n",
       "        text-align: right;\n",
       "    }\n",
       "</style>\n",
       "<table border=\"1\" class=\"dataframe\">\n",
       "  <thead>\n",
       "    <tr style=\"text-align: right;\">\n",
       "      <th></th>\n",
       "      <th>Open</th>\n",
       "      <th>High</th>\n",
       "      <th>Low</th>\n",
       "      <th>Close</th>\n",
       "      <th>Adj Close</th>\n",
       "      <th>Volume</th>\n",
       "      <th>Diff</th>\n",
       "      <th>Returns</th>\n",
       "    </tr>\n",
       "    <tr>\n",
       "      <th>Date</th>\n",
       "      <th></th>\n",
       "      <th></th>\n",
       "      <th></th>\n",
       "      <th></th>\n",
       "      <th></th>\n",
       "      <th></th>\n",
       "      <th></th>\n",
       "      <th></th>\n",
       "    </tr>\n",
       "  </thead>\n",
       "  <tbody>\n",
       "    <tr>\n",
       "      <th>2009-01-05</th>\n",
       "      <td>55.730000</td>\n",
       "      <td>55.740002</td>\n",
       "      <td>53.029999</td>\n",
       "      <td>54.060001</td>\n",
       "      <td>54.060001</td>\n",
       "      <td>9509800</td>\n",
       "      <td>-0.300000</td>\n",
       "      <td>-0.005519</td>\n",
       "    </tr>\n",
       "    <tr>\n",
       "      <th>2009-01-06</th>\n",
       "      <td>54.549999</td>\n",
       "      <td>58.220001</td>\n",
       "      <td>53.750000</td>\n",
       "      <td>57.360001</td>\n",
       "      <td>57.360001</td>\n",
       "      <td>11080100</td>\n",
       "      <td>3.300000</td>\n",
       "      <td>0.061043</td>\n",
       "    </tr>\n",
       "    <tr>\n",
       "      <th>2009-01-07</th>\n",
       "      <td>56.290001</td>\n",
       "      <td>56.950001</td>\n",
       "      <td>55.349998</td>\n",
       "      <td>56.200001</td>\n",
       "      <td>56.200001</td>\n",
       "      <td>7942700</td>\n",
       "      <td>-1.160000</td>\n",
       "      <td>-0.020223</td>\n",
       "    </tr>\n",
       "    <tr>\n",
       "      <th>2009-01-08</th>\n",
       "      <td>54.990002</td>\n",
       "      <td>57.320000</td>\n",
       "      <td>54.580002</td>\n",
       "      <td>57.160000</td>\n",
       "      <td>57.160000</td>\n",
       "      <td>6577900</td>\n",
       "      <td>0.959999</td>\n",
       "      <td>0.017082</td>\n",
       "    </tr>\n",
       "    <tr>\n",
       "      <th>2009-01-09</th>\n",
       "      <td>56.919998</td>\n",
       "      <td>57.000000</td>\n",
       "      <td>54.700001</td>\n",
       "      <td>55.509998</td>\n",
       "      <td>55.509998</td>\n",
       "      <td>6684100</td>\n",
       "      <td>-1.650002</td>\n",
       "      <td>-0.028866</td>\n",
       "    </tr>\n",
       "  </tbody>\n",
       "</table>\n",
       "</div>"
      ],
      "text/plain": [
       "                 Open       High        Low      Close  Adj Close    Volume  \\\n",
       "Date                                                                          \n",
       "2009-01-05  55.730000  55.740002  53.029999  54.060001  54.060001   9509800   \n",
       "2009-01-06  54.549999  58.220001  53.750000  57.360001  57.360001  11080100   \n",
       "2009-01-07  56.290001  56.950001  55.349998  56.200001  56.200001   7942700   \n",
       "2009-01-08  54.990002  57.320000  54.580002  57.160000  57.160000   6577900   \n",
       "2009-01-09  56.919998  57.000000  54.700001  55.509998  55.509998   6684100   \n",
       "\n",
       "                Diff   Returns  \n",
       "Date                            \n",
       "2009-01-05 -0.300000 -0.005519  \n",
       "2009-01-06  3.300000  0.061043  \n",
       "2009-01-07 -1.160000 -0.020223  \n",
       "2009-01-08  0.959999  0.017082  \n",
       "2009-01-09 -1.650002 -0.028866  "
      ]
     },
     "execution_count": 8,
     "metadata": {},
     "output_type": "execute_result"
    }
   ],
   "source": [
    "# Drop the NaNs created by the pct_change function\n",
    "df = df.dropna()\n",
    "df.head()"
   ]
  },
  {
   "cell_type": "code",
   "execution_count": 9,
   "metadata": {},
   "outputs": [
    {
     "data": {
      "text/plain": [
       "<matplotlib.axes._subplots.AxesSubplot at 0x1f6d0f42308>"
      ]
     },
     "execution_count": 9,
     "metadata": {},
     "output_type": "execute_result"
    },
    {
     "data": {
      "image/png": "[encoded data removed]",
      "text/plain": [
       "<Figure size 432x288 with 1 Axes>"
      ]
     },
     "metadata": {
      "needs_background": "light"
     },
     "output_type": "display_data"
    }
   ],
   "source": [
    "# Plot the returns as a line chart. \n",
    "# You should no longer see the upward trend in the data\n",
    "df.Returns.plot()"
   ]
  },
  {
   "cell_type": "markdown",
   "metadata": {},
   "source": [
    "### Technique 2: Applying a Diff"
   ]
  },
  {
   "cell_type": "code",
   "execution_count": 10,
   "metadata": {},
   "outputs": [],
   "source": [
    "# Subtract the upward trend for the closing prices using the `diff()` function\n",
    "df['Diff'] = df.Close.diff()"
   ]
  },
  {
   "cell_type": "code",
   "execution_count": 11,
   "metadata": {},
   "outputs": [
    {
     "data": {
      "text/html": [
       "<div>\n",
       "<style scoped>\n",
       "    .dataframe tbody tr th:only-of-type {\n",
       "        vertical-align: middle;\n",
       "    }\n",
       "\n",
       "    .dataframe tbody tr th {\n",
       "        vertical-align: top;\n",
       "    }\n",
       "\n",
       "    .dataframe thead th {\n",
       "        text-align: right;\n",
       "    }\n",
       "</style>\n",
       "<table border=\"1\" class=\"dataframe\">\n",
       "  <thead>\n",
       "    <tr style=\"text-align: right;\">\n",
       "      <th></th>\n",
       "      <th>Open</th>\n",
       "      <th>High</th>\n",
       "      <th>Low</th>\n",
       "      <th>Close</th>\n",
       "      <th>Adj Close</th>\n",
       "      <th>Volume</th>\n",
       "      <th>Diff</th>\n",
       "      <th>Returns</th>\n",
       "    </tr>\n",
       "    <tr>\n",
       "      <th>Date</th>\n",
       "      <th></th>\n",
       "      <th></th>\n",
       "      <th></th>\n",
       "      <th></th>\n",
       "      <th></th>\n",
       "      <th></th>\n",
       "      <th></th>\n",
       "      <th></th>\n",
       "    </tr>\n",
       "  </thead>\n",
       "  <tbody>\n",
       "    <tr>\n",
       "      <th>2009-01-06</th>\n",
       "      <td>54.549999</td>\n",
       "      <td>58.220001</td>\n",
       "      <td>53.750000</td>\n",
       "      <td>57.360001</td>\n",
       "      <td>57.360001</td>\n",
       "      <td>11080100</td>\n",
       "      <td>3.300000</td>\n",
       "      <td>0.061043</td>\n",
       "    </tr>\n",
       "    <tr>\n",
       "      <th>2009-01-07</th>\n",
       "      <td>56.290001</td>\n",
       "      <td>56.950001</td>\n",
       "      <td>55.349998</td>\n",
       "      <td>56.200001</td>\n",
       "      <td>56.200001</td>\n",
       "      <td>7942700</td>\n",
       "      <td>-1.160000</td>\n",
       "      <td>-0.020223</td>\n",
       "    </tr>\n",
       "    <tr>\n",
       "      <th>2009-01-08</th>\n",
       "      <td>54.990002</td>\n",
       "      <td>57.320000</td>\n",
       "      <td>54.580002</td>\n",
       "      <td>57.160000</td>\n",
       "      <td>57.160000</td>\n",
       "      <td>6577900</td>\n",
       "      <td>0.959999</td>\n",
       "      <td>0.017082</td>\n",
       "    </tr>\n",
       "    <tr>\n",
       "      <th>2009-01-09</th>\n",
       "      <td>56.919998</td>\n",
       "      <td>57.000000</td>\n",
       "      <td>54.700001</td>\n",
       "      <td>55.509998</td>\n",
       "      <td>55.509998</td>\n",
       "      <td>6684100</td>\n",
       "      <td>-1.650002</td>\n",
       "      <td>-0.028866</td>\n",
       "    </tr>\n",
       "    <tr>\n",
       "      <th>2009-01-12</th>\n",
       "      <td>54.119999</td>\n",
       "      <td>54.299999</td>\n",
       "      <td>50.869999</td>\n",
       "      <td>51.919998</td>\n",
       "      <td>51.919998</td>\n",
       "      <td>9556300</td>\n",
       "      <td>-3.590000</td>\n",
       "      <td>-0.064673</td>\n",
       "    </tr>\n",
       "  </tbody>\n",
       "</table>\n",
       "</div>"
      ],
      "text/plain": [
       "                 Open       High        Low      Close  Adj Close    Volume  \\\n",
       "Date                                                                          \n",
       "2009-01-06  54.549999  58.220001  53.750000  57.360001  57.360001  11080100   \n",
       "2009-01-07  56.290001  56.950001  55.349998  56.200001  56.200001   7942700   \n",
       "2009-01-08  54.990002  57.320000  54.580002  57.160000  57.160000   6577900   \n",
       "2009-01-09  56.919998  57.000000  54.700001  55.509998  55.509998   6684100   \n",
       "2009-01-12  54.119999  54.299999  50.869999  51.919998  51.919998   9556300   \n",
       "\n",
       "                Diff   Returns  \n",
       "Date                            \n",
       "2009-01-06  3.300000  0.061043  \n",
       "2009-01-07 -1.160000 -0.020223  \n",
       "2009-01-08  0.959999  0.017082  \n",
       "2009-01-09 -1.650002 -0.028866  \n",
       "2009-01-12 -3.590000 -0.064673  "
      ]
     },
     "execution_count": 11,
     "metadata": {},
     "output_type": "execute_result"
    }
   ],
   "source": [
    "# Drop the NaNs created from the diff function\n",
    "df = df.dropna()\n",
    "df.head()"
   ]
  },
  {
   "cell_type": "code",
   "execution_count": 12,
   "metadata": {},
   "outputs": [
    {
     "data": {
      "text/plain": [
       "<matplotlib.axes._subplots.AxesSubplot at 0x1f6d0f2f048>"
      ]
     },
     "execution_count": 12,
     "metadata": {},
     "output_type": "execute_result"
    },
    {
     "data": {
      "image/png": "[encoded data removed]",
      "text/plain": [
       "<Figure size 432x288 with 1 Axes>"
      ]
     },
     "metadata": {
      "needs_background": "light"
     },
     "output_type": "display_data"
    }
   ],
   "source": [
    "# Plot the \n",
    "df.Diff.plot()"
   ]
  },
  {
   "cell_type": "code",
   "execution_count": null,
   "metadata": {},
   "outputs": [],
   "source": []
  }
 ],
 "metadata": {
  "kernelspec": {
   "display_name": "Python [conda env:pyvizenv_2] *",
   "language": "python",
   "name": "conda-env-pyvizenv_2-py"
  },
  "language_info": {
   "codemirror_mode": {
    "name": "ipython",
    "version": 3
   },
   "file_extension": ".py",
   "mimetype": "text/x-python",
   "name": "python",
   "nbconvert_exporter": "python",
   "pygments_lexer": "ipython3",
   "version": "3.7.9"
  }
 },
 "nbformat": 4,
 "nbformat_minor": 4
}
