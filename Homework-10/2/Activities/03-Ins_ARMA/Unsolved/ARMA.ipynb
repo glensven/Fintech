{
 "cells": [
  {
   "cell_type": "code",
   "execution_count": 1,
   "metadata": {},
   "outputs": [
    {
     "name": "stderr",
     "output_type": "stream",
     "text": [
      "\n",
      "Bad key \"text.kerning_factor\" on line 4 in\n",
      "C:\\Users\\Glen\\anaconda3\\envs\\pyvizenv_2\\lib\\site-packages\\matplotlib\\mpl-data\\stylelib\\_classic_test_patch.mplstyle.\n",
      "You probably need to get an updated matplotlibrc file from\n",
      "http://github.com/matplotlib/matplotlib/blob/master/matplotlibrc.template\n",
      "or from the matplotlib source distribution\n"
     ]
    }
   ],
   "source": [
    "import pandas as pd\n",
    "from pathlib import Path\n",
    "csvpath = Path('../Resources/nasdaq.csv')\n",
    "df = pd.read_csv(csvpath, parse_dates=True, index_col='Date')\n",
    "%matplotlib inline"
   ]
  },
  {
   "cell_type": "code",
   "execution_count": 2,
   "metadata": {},
   "outputs": [
    {
     "data": {
      "text/html": [
       "<div>\n",
       "<style scoped>\n",
       "    .dataframe tbody tr th:only-of-type {\n",
       "        vertical-align: middle;\n",
       "    }\n",
       "\n",
       "    .dataframe tbody tr th {\n",
       "        vertical-align: top;\n",
       "    }\n",
       "\n",
       "    .dataframe thead th {\n",
       "        text-align: right;\n",
       "    }\n",
       "</style>\n",
       "<table border=\"1\" class=\"dataframe\">\n",
       "  <thead>\n",
       "    <tr style=\"text-align: right;\">\n",
       "      <th></th>\n",
       "      <th>Open</th>\n",
       "      <th>High</th>\n",
       "      <th>Low</th>\n",
       "      <th>Close</th>\n",
       "      <th>Adj Close</th>\n",
       "      <th>Volume</th>\n",
       "      <th>Return</th>\n",
       "    </tr>\n",
       "    <tr>\n",
       "      <th>Date</th>\n",
       "      <th></th>\n",
       "      <th></th>\n",
       "      <th></th>\n",
       "      <th></th>\n",
       "      <th></th>\n",
       "      <th></th>\n",
       "      <th></th>\n",
       "    </tr>\n",
       "  </thead>\n",
       "  <tbody>\n",
       "    <tr>\n",
       "      <th>2012-01-03</th>\n",
       "      <td>25.030001</td>\n",
       "      <td>25.270000</td>\n",
       "      <td>24.910000</td>\n",
       "      <td>24.959999</td>\n",
       "      <td>21.894108</td>\n",
       "      <td>1468800</td>\n",
       "      <td>0.018360</td>\n",
       "    </tr>\n",
       "    <tr>\n",
       "      <th>2012-01-04</th>\n",
       "      <td>24.690001</td>\n",
       "      <td>24.799999</td>\n",
       "      <td>24.430000</td>\n",
       "      <td>24.620001</td>\n",
       "      <td>21.595875</td>\n",
       "      <td>1100900</td>\n",
       "      <td>-0.013622</td>\n",
       "    </tr>\n",
       "    <tr>\n",
       "      <th>2012-01-05</th>\n",
       "      <td>24.360001</td>\n",
       "      <td>24.719999</td>\n",
       "      <td>24.139999</td>\n",
       "      <td>24.660000</td>\n",
       "      <td>21.630962</td>\n",
       "      <td>1072200</td>\n",
       "      <td>0.001625</td>\n",
       "    </tr>\n",
       "    <tr>\n",
       "      <th>2012-01-06</th>\n",
       "      <td>24.629999</td>\n",
       "      <td>24.900000</td>\n",
       "      <td>24.379999</td>\n",
       "      <td>24.430000</td>\n",
       "      <td>21.429213</td>\n",
       "      <td>1192400</td>\n",
       "      <td>-0.009327</td>\n",
       "    </tr>\n",
       "    <tr>\n",
       "      <th>2012-01-09</th>\n",
       "      <td>24.410000</td>\n",
       "      <td>24.660000</td>\n",
       "      <td>24.270000</td>\n",
       "      <td>24.330000</td>\n",
       "      <td>21.341490</td>\n",
       "      <td>863900</td>\n",
       "      <td>-0.004093</td>\n",
       "    </tr>\n",
       "  </tbody>\n",
       "</table>\n",
       "</div>"
      ],
      "text/plain": [
       "                 Open       High        Low      Close  Adj Close   Volume  \\\n",
       "Date                                                                         \n",
       "2012-01-03  25.030001  25.270000  24.910000  24.959999  21.894108  1468800   \n",
       "2012-01-04  24.690001  24.799999  24.430000  24.620001  21.595875  1100900   \n",
       "2012-01-05  24.360001  24.719999  24.139999  24.660000  21.630962  1072200   \n",
       "2012-01-06  24.629999  24.900000  24.379999  24.430000  21.429213  1192400   \n",
       "2012-01-09  24.410000  24.660000  24.270000  24.330000  21.341490   863900   \n",
       "\n",
       "              Return  \n",
       "Date                  \n",
       "2012-01-03  0.018360  \n",
       "2012-01-04 -0.013622  \n",
       "2012-01-05  0.001625  \n",
       "2012-01-06 -0.009327  \n",
       "2012-01-09 -0.004093  "
      ]
     },
     "execution_count": 2,
     "metadata": {},
     "output_type": "execute_result"
    }
   ],
   "source": [
    "df.head()"
   ]
  },
  {
   "cell_type": "code",
   "execution_count": 3,
   "metadata": {},
   "outputs": [
    {
     "data": {
      "text/plain": [
       "<matplotlib.axes._subplots.AxesSubplot at 0x13fccab4f48>"
      ]
     },
     "execution_count": 3,
     "metadata": {},
     "output_type": "execute_result"
    },
    {
     "data": {
      "image/png": "[encoded data removed]",
      "text/plain": [
       "<Figure size 432x288 with 1 Axes>"
      ]
     },
     "metadata": {
      "needs_background": "light"
     },
     "output_type": "display_data"
    }
   ],
   "source": [
    "# The series is non-stationary (Trends upwards)\n",
    "df.Close.plot()"
   ]
  },
  {
   "cell_type": "code",
   "execution_count": 5,
   "metadata": {},
   "outputs": [],
   "source": [
    "df['Returns'] = df.Close.pct_change()"
   ]
  },
  {
   "cell_type": "code",
   "execution_count": 6,
   "metadata": {},
   "outputs": [
    {
     "data": {
      "text/html": [
       "<div>\n",
       "<style scoped>\n",
       "    .dataframe tbody tr th:only-of-type {\n",
       "        vertical-align: middle;\n",
       "    }\n",
       "\n",
       "    .dataframe tbody tr th {\n",
       "        vertical-align: top;\n",
       "    }\n",
       "\n",
       "    .dataframe thead th {\n",
       "        text-align: right;\n",
       "    }\n",
       "</style>\n",
       "<table border=\"1\" class=\"dataframe\">\n",
       "  <thead>\n",
       "    <tr style=\"text-align: right;\">\n",
       "      <th></th>\n",
       "      <th>Open</th>\n",
       "      <th>High</th>\n",
       "      <th>Low</th>\n",
       "      <th>Close</th>\n",
       "      <th>Adj Close</th>\n",
       "      <th>Volume</th>\n",
       "      <th>Return</th>\n",
       "      <th>Returns</th>\n",
       "    </tr>\n",
       "    <tr>\n",
       "      <th>Date</th>\n",
       "      <th></th>\n",
       "      <th></th>\n",
       "      <th></th>\n",
       "      <th></th>\n",
       "      <th></th>\n",
       "      <th></th>\n",
       "      <th></th>\n",
       "      <th></th>\n",
       "    </tr>\n",
       "  </thead>\n",
       "  <tbody>\n",
       "    <tr>\n",
       "      <th>2012-01-04</th>\n",
       "      <td>24.690001</td>\n",
       "      <td>24.799999</td>\n",
       "      <td>24.430000</td>\n",
       "      <td>24.620001</td>\n",
       "      <td>21.595875</td>\n",
       "      <td>1100900</td>\n",
       "      <td>-0.013622</td>\n",
       "      <td>-0.013622</td>\n",
       "    </tr>\n",
       "    <tr>\n",
       "      <th>2012-01-05</th>\n",
       "      <td>24.360001</td>\n",
       "      <td>24.719999</td>\n",
       "      <td>24.139999</td>\n",
       "      <td>24.660000</td>\n",
       "      <td>21.630962</td>\n",
       "      <td>1072200</td>\n",
       "      <td>0.001625</td>\n",
       "      <td>0.001625</td>\n",
       "    </tr>\n",
       "    <tr>\n",
       "      <th>2012-01-06</th>\n",
       "      <td>24.629999</td>\n",
       "      <td>24.900000</td>\n",
       "      <td>24.379999</td>\n",
       "      <td>24.430000</td>\n",
       "      <td>21.429213</td>\n",
       "      <td>1192400</td>\n",
       "      <td>-0.009327</td>\n",
       "      <td>-0.009327</td>\n",
       "    </tr>\n",
       "    <tr>\n",
       "      <th>2012-01-09</th>\n",
       "      <td>24.410000</td>\n",
       "      <td>24.660000</td>\n",
       "      <td>24.270000</td>\n",
       "      <td>24.330000</td>\n",
       "      <td>21.341490</td>\n",
       "      <td>863900</td>\n",
       "      <td>-0.004093</td>\n",
       "      <td>-0.004093</td>\n",
       "    </tr>\n",
       "    <tr>\n",
       "      <th>2012-01-10</th>\n",
       "      <td>24.580000</td>\n",
       "      <td>25.250000</td>\n",
       "      <td>24.490000</td>\n",
       "      <td>25.170000</td>\n",
       "      <td>22.078316</td>\n",
       "      <td>2647200</td>\n",
       "      <td>0.034525</td>\n",
       "      <td>0.034525</td>\n",
       "    </tr>\n",
       "  </tbody>\n",
       "</table>\n",
       "</div>"
      ],
      "text/plain": [
       "                 Open       High        Low      Close  Adj Close   Volume  \\\n",
       "Date                                                                         \n",
       "2012-01-04  24.690001  24.799999  24.430000  24.620001  21.595875  1100900   \n",
       "2012-01-05  24.360001  24.719999  24.139999  24.660000  21.630962  1072200   \n",
       "2012-01-06  24.629999  24.900000  24.379999  24.430000  21.429213  1192400   \n",
       "2012-01-09  24.410000  24.660000  24.270000  24.330000  21.341490   863900   \n",
       "2012-01-10  24.580000  25.250000  24.490000  25.170000  22.078316  2647200   \n",
       "\n",
       "              Return   Returns  \n",
       "Date                            \n",
       "2012-01-04 -0.013622 -0.013622  \n",
       "2012-01-05  0.001625  0.001625  \n",
       "2012-01-06 -0.009327 -0.009327  \n",
       "2012-01-09 -0.004093 -0.004093  \n",
       "2012-01-10  0.034525  0.034525  "
      ]
     },
     "execution_count": 6,
     "metadata": {},
     "output_type": "execute_result"
    }
   ],
   "source": [
    "df = df.dropna()\n",
    "df.head()"
   ]
  },
  {
   "cell_type": "code",
   "execution_count": 11,
   "metadata": {},
   "outputs": [],
   "source": [
    "from statsmodels.tsa.stattools import ARMA"
   ]
  },
  {
   "cell_type": "code",
   "execution_count": 13,
   "metadata": {},
   "outputs": [
    {
     "name": "stderr",
     "output_type": "stream",
     "text": [
      "C:\\Users\\Glen\\anaconda3\\envs\\pyvizenv_2\\lib\\site-packages\\statsmodels\\tsa\\arima_model.py:472: FutureWarning: \n",
      "statsmodels.tsa.arima_model.ARMA and statsmodels.tsa.arima_model.ARIMA have\n",
      "been deprecated in favor of statsmodels.tsa.arima.model.ARIMA (note the .\n",
      "between arima and model) and\n",
      "statsmodels.tsa.SARIMAX. These will be removed after the 0.12 release.\n",
      "\n",
      "statsmodels.tsa.arima.model.ARIMA makes use of the statespace framework and\n",
      "is both well tested and maintained.\n",
      "\n",
      "To silence this warning and continue using ARMA and ARIMA until they are\n",
      "removed, use:\n",
      "\n",
      "import warnings\n",
      "warnings.filterwarnings('ignore', 'statsmodels.tsa.arima_model.ARMA',\n",
      "                        FutureWarning)\n",
      "warnings.filterwarnings('ignore', 'statsmodels.tsa.arima_model.ARIMA',\n",
      "                        FutureWarning)\n",
      "\n",
      "  warnings.warn(ARIMA_DEPRECATION_WARN, FutureWarning)\n"
     ]
    }
   ],
   "source": [
    "model = ARMA(df.Returns.values, order=(1,1))"
   ]
  },
  {
   "cell_type": "code",
   "execution_count": 14,
   "metadata": {},
   "outputs": [],
   "source": [
    "results = model.fit()"
   ]
  },
  {
   "cell_type": "code",
   "execution_count": 15,
   "metadata": {},
   "outputs": [
    {
     "data": {
      "text/plain": [
       "(array([0.00059603, 0.00066766, 0.00071423, 0.00074451, 0.0007642 ,\n",
       "        0.00077701, 0.00078533, 0.00079075, 0.00079427, 0.00079656]),\n",
       " array([0.01252731, 0.01253317, 0.01253565, 0.01253669, 0.01253714,\n",
       "        0.01253732, 0.0125374 , 0.01253744, 0.01253745, 0.01253746]),\n",
       " array([[-0.02395705,  0.02514911],\n",
       "        [-0.02389691,  0.02523222],\n",
       "        [-0.02385519,  0.02528364],\n",
       "        [-0.02382696,  0.02531598],\n",
       "        [-0.02380813,  0.02533654],\n",
       "        [-0.02379569,  0.02534971],\n",
       "        [-0.02378752,  0.02535819],\n",
       "        [-0.02378217,  0.02536367],\n",
       "        [-0.02377868,  0.02536722],\n",
       "        [-0.0237764 ,  0.02536952]]))"
      ]
     },
     "execution_count": 15,
     "metadata": {},
     "output_type": "execute_result"
    }
   ],
   "source": [
    "results.forecast(steps=10)"
   ]
  },
  {
   "cell_type": "code",
   "execution_count": 16,
   "metadata": {},
   "outputs": [
    {
     "data": {
      "text/plain": [
       "<matplotlib.axes._subplots.AxesSubplot at 0x13fcd6ca408>"
      ]
     },
     "execution_count": 16,
     "metadata": {},
     "output_type": "execute_result"
    },
    {
     "data": {
      "image/png": "[encoded data removed]",
      "text/plain": [
       "<Figure size 432x288 with 1 Axes>"
      ]
     },
     "metadata": {
      "needs_background": "light"
     },
     "output_type": "display_data"
    }
   ],
   "source": [
    "pd.DataFrame(results.forecast(steps=10)[0]).plot()"
   ]
  },
  {
   "cell_type": "code",
   "execution_count": 17,
   "metadata": {},
   "outputs": [
    {
     "data": {
      "text/html": [
       "<table class=\"simpletable\">\n",
       "<caption>ARMA Model Results</caption>\n",
       "<tr>\n",
       "  <th>Dep. Variable:</th>         <td>y</td>        <th>  No. Observations:  </th>    <td>1884</td>   \n",
       "</tr>\n",
       "<tr>\n",
       "  <th>Model:</th>            <td>ARMA(1, 1)</td>    <th>  Log Likelihood     </th>  <td>5578.344</td> \n",
       "</tr>\n",
       "<tr>\n",
       "  <th>Method:</th>             <td>css-mle</td>     <th>  S.D. of innovations</th>    <td>0.013</td>  \n",
       "</tr>\n",
       "<tr>\n",
       "  <th>Date:</th>          <td>Mon, 22 Mar 2021</td> <th>  AIC                </th> <td>-11148.689</td>\n",
       "</tr>\n",
       "<tr>\n",
       "  <th>Time:</th>              <td>19:25:05</td>     <th>  BIC                </th> <td>-11126.524</td>\n",
       "</tr>\n",
       "<tr>\n",
       "  <th>Sample:</th>                <td>0</td>        <th>  HQIC               </th> <td>-11140.526</td>\n",
       "</tr>\n",
       "<tr>\n",
       "  <th></th>                       <td> </td>        <th>                     </th>      <td> </td>    \n",
       "</tr>\n",
       "</table>\n",
       "<table class=\"simpletable\">\n",
       "<tr>\n",
       "     <td></td>        <th>coef</th>     <th>std err</th>      <th>z</th>      <th>P>|z|</th>  <th>[0.025</th>    <th>0.975]</th>  \n",
       "</tr>\n",
       "<tr>\n",
       "  <th>const</th>   <td>    0.0008</td> <td>    0.000</td> <td>    3.040</td> <td> 0.002</td> <td>    0.000</td> <td>    0.001</td>\n",
       "</tr>\n",
       "<tr>\n",
       "  <th>ar.L1.y</th> <td>    0.6502</td> <td>    0.258</td> <td>    2.516</td> <td> 0.012</td> <td>    0.144</td> <td>    1.157</td>\n",
       "</tr>\n",
       "<tr>\n",
       "  <th>ma.L1.y</th> <td>   -0.6808</td> <td>    0.249</td> <td>   -2.734</td> <td> 0.006</td> <td>   -1.169</td> <td>   -0.193</td>\n",
       "</tr>\n",
       "</table>\n",
       "<table class=\"simpletable\">\n",
       "<caption>Roots</caption>\n",
       "<tr>\n",
       "    <td></td>   <th>            Real</th>  <th>         Imaginary</th> <th>         Modulus</th>  <th>        Frequency</th>\n",
       "</tr>\n",
       "<tr>\n",
       "  <th>AR.1</th> <td>           1.5379</td> <td>          +0.0000j</td> <td>           1.5379</td> <td>           0.0000</td>\n",
       "</tr>\n",
       "<tr>\n",
       "  <th>MA.1</th> <td>           1.4688</td> <td>          +0.0000j</td> <td>           1.4688</td> <td>           0.0000</td>\n",
       "</tr>\n",
       "</table>"
      ],
      "text/plain": [
       "<class 'statsmodels.iolib.summary.Summary'>\n",
       "\"\"\"\n",
       "                              ARMA Model Results                              \n",
       "==============================================================================\n",
       "Dep. Variable:                      y   No. Observations:                 1884\n",
       "Model:                     ARMA(1, 1)   Log Likelihood                5578.344\n",
       "Method:                       css-mle   S.D. of innovations              0.013\n",
       "Date:                Mon, 22 Mar 2021   AIC                         -11148.689\n",
       "Time:                        19:25:05   BIC                         -11126.524\n",
       "Sample:                             0   HQIC                        -11140.526\n",
       "                                                                              \n",
       "==============================================================================\n",
       "                 coef    std err          z      P>|z|      [0.025      0.975]\n",
       "------------------------------------------------------------------------------\n",
       "const          0.0008      0.000      3.040      0.002       0.000       0.001\n",
       "ar.L1.y        0.6502      0.258      2.516      0.012       0.144       1.157\n",
       "ma.L1.y       -0.6808      0.249     -2.734      0.006      -1.169      -0.193\n",
       "                                    Roots                                    \n",
       "=============================================================================\n",
       "                  Real          Imaginary           Modulus         Frequency\n",
       "-----------------------------------------------------------------------------\n",
       "AR.1            1.5379           +0.0000j            1.5379            0.0000\n",
       "MA.1            1.4688           +0.0000j            1.4688            0.0000\n",
       "-----------------------------------------------------------------------------\n",
       "\"\"\""
      ]
     },
     "execution_count": 17,
     "metadata": {},
     "output_type": "execute_result"
    }
   ],
   "source": [
    "results.summary()"
   ]
  },
  {
   "cell_type": "code",
   "execution_count": null,
   "metadata": {},
   "outputs": [],
   "source": []
  }
 ],
 "metadata": {
  "kernelspec": {
   "display_name": "Python [conda env:pyvizenv_2] *",
   "language": "python",
   "name": "conda-env-pyvizenv_2-py"
  },
  "language_info": {
   "codemirror_mode": {
    "name": "ipython",
    "version": 3
   },
   "file_extension": ".py",
   "mimetype": "text/x-python",
   "name": "python",
   "nbconvert_exporter": "python",
   "pygments_lexer": "ipython3",
   "version": "3.7.9"
  }
 },
 "nbformat": 4,
 "nbformat_minor": 4
}
